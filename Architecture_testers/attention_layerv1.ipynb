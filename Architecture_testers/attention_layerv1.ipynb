{
 "cells": [
  {
   "cell_type": "code",
   "execution_count": 2,
   "id": "b0304d0e",
   "metadata": {},
   "outputs": [],
   "source": [
    "from keras import backend as K\n",
    "import tensorflow as tf"
   ]
  },
  {
   "cell_type": "code",
   "execution_count": null,
   "id": "4dab2db4",
   "metadata": {},
   "outputs": [],
   "source": [
    "class cnn_dot_attn_Layer(tf.keras.layers.Layer):\n",
    "    \n",
    "    def __init__(self):\n",
    "        super(cnn_dot_attn_Layer).__init__()\n",
    "    \n",
    "    def build(self, input_shape): #i need to figure out what input_shape should be\n",
    "        \n",
    "    "
   ]
  }
 ],
 "metadata": {
  "kernelspec": {
   "display_name": "Python 3 (ipykernel)",
   "language": "python",
   "name": "python3"
  },
  "language_info": {
   "codemirror_mode": {
    "name": "ipython",
    "version": 3
   },
   "file_extension": ".py",
   "mimetype": "text/x-python",
   "name": "python",
   "nbconvert_exporter": "python",
   "pygments_lexer": "ipython3",
   "version": "3.9.7"
  }
 },
 "nbformat": 4,
 "nbformat_minor": 5
}
