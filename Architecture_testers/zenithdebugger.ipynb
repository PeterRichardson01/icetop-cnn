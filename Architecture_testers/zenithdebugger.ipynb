{
 "cells": [
  {
   "cell_type": "code",
   "execution_count": 18,
   "id": "5206646f-8c0d-460b-bd83-193949f5e41a",
   "metadata": {},
   "outputs": [
    {
     "name": "stdout",
     "output_type": "stream",
     "text": [
      "Percentage of events with a NaN: 2.68\n"
     ]
    }
   ],
   "source": [
    "import numpy as np\n",
    "import tensorflow as tf\n",
    "import pandas as pd\n",
    "import math\n",
    "\n",
    "from tensorflow.keras.models import Sequential\n",
    "from tensorflow.keras.layers import Dense, Conv2D, Flatten, LeakyReLU, BatchNormalization, Dropout, Concatenate\n",
    "from tensorflow.keras import Input, Model\n",
    "\n",
    "from tensorflow.keras.callbacks import ModelCheckpoint\n",
    "\n",
    "from data_tools import load_preprocessed, dataPrep, nameModel\n",
    "\n",
    "## FIX THIS!\n",
    "simPrefix = 'D:\\icecube\\sim_data'\n",
    "\n",
    "# Name for model\n",
    "key = 'Best_w_zenith_nocos'\n",
    "\n",
    "# Data preparation: no merging of charge (q), no time layers included (t=False), data normalized from 0-1\n",
    "prep = {'q':'product', 't':False, 'normed':False, 'reco' : 'plane' , 'cosz' : False}#cosz = True}\n",
    "\n",
    "x, y = load_preprocessed(simPrefix, 'train') #filter nans out before training!\n",
    "#print(y.keys())"
   ]
  },
  {
   "cell_type": "code",
   "execution_count": 20,
   "id": "674113b7-0bc8-4b53-9e54-142a8c0021c1",
   "metadata": {},
   "outputs": [
    {
     "name": "stdout",
     "output_type": "stream",
     "text": [
      "Model: \"test_q.product_t.False_normed.False_reco.plane_cosz.False\"\n",
      "__________________________________________________________________________________________________\n",
      " Layer (type)                   Output Shape         Param #     Connected to                     \n",
      "==================================================================================================\n",
      " input_14 (InputLayer)          [(None, 10, 10, 1)]  0           []                               \n",
      "                                                                                                  \n",
      " conv2d_14 (Conv2D)             (None, 10, 10, 64)   576         ['input_14[0][0]']               \n",
      "                                                                                                  \n",
      " batch_normalization_16 (BatchN  (None, 10, 10, 64)  256         ['conv2d_14[0][0]']              \n",
      " ormalization)                                                                                    \n",
      "                                                                                                  \n",
      " leaky_re_lu_14 (LeakyReLU)     (None, 10, 10, 64)   0           ['batch_normalization_16[0][0]'] \n",
      "                                                                                                  \n",
      " conv2d_15 (Conv2D)             (None, 10, 10, 32)   18432       ['leaky_re_lu_14[0][0]']         \n",
      "                                                                                                  \n",
      " batch_normalization_17 (BatchN  (None, 10, 10, 32)  128         ['conv2d_15[0][0]']              \n",
      " ormalization)                                                                                    \n",
      "                                                                                                  \n",
      " leaky_re_lu_15 (LeakyReLU)     (None, 10, 10, 32)   0           ['batch_normalization_17[0][0]'] \n",
      "                                                                                                  \n",
      " dropout_8 (Dropout)            (None, 10, 10, 32)   0           ['leaky_re_lu_15[0][0]']         \n",
      "                                                                                                  \n",
      " flatten_6 (Flatten)            (None, 3200)         0           ['dropout_8[0][0]']              \n",
      "                                                                                                  \n",
      " dense_5 (Dense)                (None, 1)            3200        ['flatten_6[0][0]']              \n",
      "                                                                                                  \n",
      " batch_normalization_18 (BatchN  (None, 1)           4           ['dense_5[0][0]']                \n",
      " ormalization)                                                                                    \n",
      "                                                                                                  \n",
      " leaky_re_lu_16 (LeakyReLU)     (None, 1)            0           ['batch_normalization_18[0][0]'] \n",
      "                                                                                                  \n",
      " dropout_9 (Dropout)            (None, 1)            0           ['leaky_re_lu_16[0][0]']         \n",
      "                                                                                                  \n",
      " input_15 (InputLayer)          [(None, 1)]          0           []                               \n",
      "                                                                                                  \n",
      " dense_6 (Dense)                (None, 2)            4           ['dropout_9[0][0]']              \n",
      "                                                                                                  \n",
      "==================================================================================================\n",
      "Total params: 22,600\n",
      "Trainable params: 22,406\n",
      "Non-trainable params: 194\n",
      "__________________________________________________________________________________________________\n"
     ]
    }
   ],
   "source": [
    "    ip1 = Input(shape=(10,10,1))\n",
    "    l = Conv2D(64,kernel_size=3,padding='same',use_bias=False)(ip1)\n",
    "    l = BatchNormalization()(l)\n",
    "    l = LeakyReLU(alpha=.3)(l)\n",
    "    l = Conv2D(32,kernel_size=3,padding='same',use_bias=False)(l)\n",
    "    l = BatchNormalization()(l)\n",
    "    l = LeakyReLU(alpha=.3)(l)\n",
    "    l = Dropout(.6)(l)\n",
    "    l = Flatten()(l)\n",
    "    ip2 = Input(shape= (1,))\n",
    "    merge = Concatenate()([l,ip2])\n",
    "    l = Dense(1,use_bias=False)(l)\n",
    "    l = BatchNormalization()(l)\n",
    "    l = LeakyReLU(alpha=.3)(l)\n",
    "    l = Dropout(.5)(l)\n",
    "    output = Dense(2)(l)\n",
    "    \n",
    "    model = Model(inputs = [ip1,ip2], outputs = output,name=nameModel(prep,prefix='test'))\n",
    "    \n",
    "    model.summary()\n",
    "\n",
    "    model.compile(loss='mean_squared_error', optimizer='SGD', metrics=['mse'])"
   ]
  },
  {
   "cell_type": "code",
   "execution_count": 22,
   "id": "4223db67-af65-4722-bb29-7519c0e7d4ac",
   "metadata": {},
   "outputs": [],
   "source": [
    "energy = y['energy']\n",
    "comp = y['comp']\n",
    "theta, phi = y['dir'].transpose()\n",
    "nevents = len(energy)\n",
    "trainCut = (np.random.uniform(size=nevents) < 0.85)\n",
    "testCut = np.logical_not(trainCut)\n",
    "\n",
    "# Establish arrays to be trained on\n",
    "x_i = dataPrep(x, y, **prep)\n",
    "\n",
    "\n",
    "\n",
    "e_y = energy\n",
    "comp_y = y['comp']\n",
    "           \n",
    "\n"
   ]
  },
  {
   "cell_type": "code",
   "execution_count": 25,
   "id": "9d83b325-f977-4c09-9dfa-a9bd5fa4888a",
   "metadata": {},
   "outputs": [
    {
     "name": "stdout",
     "output_type": "stream",
     "text": [
      "7177/7177 [==============================] - 176s 25ms/step - loss: 0.4350 - mse: 0.4350 - val_loss: 0.3870 - val_mse: 0.3870\n"
     ]
    }
   ],
   "source": [
    "\n",
    "\n",
    "history = model.fit([x_i[0], x_i[1]] ,e_y, validation_split = .15, epochs=1, batch_size = 64)\n",
    "\n",
    "\n"
   ]
  },
  {
   "cell_type": "code",
   "execution_count": 28,
   "id": "43e92e78-7a16-450b-9b8b-fa2e780e1755",
   "metadata": {},
   "outputs": [
    {
     "name": "stdout",
     "output_type": "stream",
     "text": [
      "s\n"
     ]
    }
   ],
   "source": [
    "model.save('%s.h5' % key)\n",
    "print('s')"
   ]
  },
  {
   "cell_type": "code",
   "execution_count": null,
   "id": "fb27dff5-e1da-4d0c-952d-300a7cbdb022",
   "metadata": {},
   "outputs": [],
   "source": []
  }
 ],
 "metadata": {
  "kernelspec": {
   "display_name": "Python 3 (ipykernel)",
   "language": "python",
   "name": "python3"
  },
  "language_info": {
   "codemirror_mode": {
    "name": "ipython",
    "version": 3
   },
   "file_extension": ".py",
   "mimetype": "text/x-python",
   "name": "python",
   "nbconvert_exporter": "python",
   "pygments_lexer": "ipython3",
   "version": "3.9.7"
  }
 },
 "nbformat": 4,
 "nbformat_minor": 5
}
