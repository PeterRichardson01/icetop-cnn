{
 "cells": [
  {
   "cell_type": "markdown",
   "metadata": {},
   "source": [
    "# Energy Reconstruction Using CNN"
   ]
  },
  {
   "cell_type": "code",
   "execution_count": 6,
   "metadata": {},
   "outputs": [],
   "source": [
    "import numpy as np\n",
    "import tensorflow as tf\n",
    "import os\n",
    "import matplotlib.pyplot as plt\n",
    "\n",
    "from tensorflow.keras.models import Sequential\n",
    "from tensorflow.keras.layers import Dense, Conv2D, Flatten\n",
    "\n",
    "from tensorflow.keras.callbacks import ModelCheckpoint\n",
    "\n",
    "from data_tools import load_preprocessed, dataPrep, nameModel\n",
    "\n",
    "## FIX THIS!\n",
    "simPrefix = os.getcwd()+'\\\\simdata'"
   ]
  },
  {
   "cell_type": "markdown",
   "metadata": {},
   "source": [
    "## Data Input"
   ]
  },
  {
   "cell_type": "code",
   "execution_count": 2,
   "metadata": {},
   "outputs": [
    {
     "name": "stdout",
     "output_type": "stream",
     "text": [
      "Percentage of events with a NaN: 2.68\n"
     ]
    }
   ],
   "source": [
    "x, y = load_preprocessed(simPrefix, 'train')"
   ]
  },
  {
   "cell_type": "code",
   "execution_count": 3,
   "metadata": {
    "scrolled": true
   },
   "outputs": [
    {
     "name": "stdout",
     "output_type": "stream",
     "text": [
      "(549773, 10, 10, 4)\n",
      "dict_keys(['comp', 'energy', 'dir', 'plane_dir', 'laputop_dir', 'small_dir'])\n"
     ]
    }
   ],
   "source": [
    "print(x.shape)\n",
    "print(y.keys())\n",
    "# each station has 2 tanks, each tank has 2 DOMs (high/log gain)\n",
    "# each tank measures charge and time\n",
    "# each station gives 2 charges and 2 times, 4 pieces of data\n",
    "# x: (num, i, j, data)\n",
    "# charge measured in VEM, vertical equivalent muon\n",
    "\n",
    "# 'dir' is true direction, rest of dir are reconstructed by simulations\n",
    "# plane assumes shower is flat plane\n",
    "# laputop performs likelihood analysis\n",
    "# small compromises between"
   ]
  },
  {
   "cell_type": "code",
   "execution_count": 18,
   "metadata": {},
   "outputs": [
    {
     "name": "stdout",
     "output_type": "stream",
     "text": [
      "(54977300,)\n",
      "404193\n"
     ]
    },
    {
     "data": {
      "text/plain": [
       "(array([4.3753712e+07, 8.5081000e+05, 1.2861020e+06, 1.0464960e+06,\n",
       "        8.7215200e+05, 8.1043600e+05, 8.8325000e+05, 8.3876500e+05,\n",
       "        6.8673900e+05, 5.4230400e+05, 4.3348300e+05, 3.5975900e+05,\n",
       "        3.0330200e+05, 2.5937200e+05, 2.2181900e+05, 1.9147700e+05,\n",
       "        1.6777000e+05, 1.4623300e+05, 1.2814500e+05, 1.1295900e+05,\n",
       "        1.0114600e+05, 9.1613000e+04, 8.2745000e+04, 7.5113000e+04,\n",
       "        6.8428000e+04, 6.2669000e+04, 5.4995000e+04, 5.0141000e+04,\n",
       "        4.2110000e+04, 3.7714000e+04, 3.6397000e+04, 3.3408000e+04,\n",
       "        3.0618000e+04, 2.7442000e+04, 2.5191000e+04, 2.2881000e+04,\n",
       "        2.1131000e+04, 1.9179000e+04, 1.7584000e+04, 1.6431000e+04,\n",
       "        1.4722000e+04, 1.3546000e+04, 1.2269000e+04, 1.1295000e+04,\n",
       "        1.0321000e+04, 9.1580000e+03, 8.2680000e+03, 7.4880000e+03,\n",
       "        6.8450000e+03, 6.1850000e+03, 5.4370000e+03, 4.6140000e+03,\n",
       "        3.7910000e+03, 2.6380000e+03, 1.8270000e+03, 1.1740000e+03,\n",
       "        1.0560000e+03, 1.1030000e+03, 1.0270000e+03, 1.1540000e+03,\n",
       "        1.2910000e+03, 1.3450000e+03, 1.6230000e+03, 1.7610000e+03,\n",
       "        1.8380000e+03, 2.0250000e+03, 2.0840000e+03, 2.2050000e+03,\n",
       "        2.2780000e+03, 2.3250000e+03, 2.3330000e+03, 2.2190000e+03,\n",
       "        2.2170000e+03, 1.9810000e+03, 1.6950000e+03, 1.5950000e+03,\n",
       "        1.2770000e+03, 1.0890000e+03, 9.5600000e+02, 8.3700000e+02,\n",
       "        8.1500000e+02, 7.0100000e+02, 6.3800000e+02, 5.6800000e+02,\n",
       "        5.2200000e+02, 5.0800000e+02, 4.3400000e+02, 3.7700000e+02,\n",
       "        3.5900000e+02, 2.8800000e+02, 2.5200000e+02, 2.1800000e+02,\n",
       "        2.1800000e+02, 1.7600000e+02, 1.1700000e+02, 8.9000000e+01,\n",
       "        5.4000000e+01, 2.5000000e+01, 1.9000000e+01, 9.0000000e+00]),\n",
       " array([0.        , 0.04950259, 0.09900519, 0.14850778, 0.19801037,\n",
       "        0.24751297, 0.29701556, 0.34651816, 0.39602075, 0.44552334,\n",
       "        0.49502594, 0.54452853, 0.59403112, 0.64353372, 0.69303631,\n",
       "        0.74253891, 0.7920415 , 0.84154409, 0.89104669, 0.94054928,\n",
       "        0.99005187, 1.03955447, 1.08905706, 1.13855966, 1.18806225,\n",
       "        1.23756484, 1.28706744, 1.33657003, 1.38607262, 1.43557522,\n",
       "        1.48507781, 1.53458041, 1.584083  , 1.63358559, 1.68308819,\n",
       "        1.73259078, 1.78209337, 1.83159597, 1.88109856, 1.93060116,\n",
       "        1.98010375, 2.02960634, 2.07910894, 2.12861153, 2.17811412,\n",
       "        2.22761672, 2.27711931, 2.32662191, 2.3761245 , 2.42562709,\n",
       "        2.47512969, 2.52463228, 2.57413487, 2.62363747, 2.67314006,\n",
       "        2.72264266, 2.77214525, 2.82164784, 2.87115044, 2.92065303,\n",
       "        2.97015562, 3.01965822, 3.06916081, 3.11866341, 3.168166  ,\n",
       "        3.21766859, 3.26717119, 3.31667378, 3.36617637, 3.41567897,\n",
       "        3.46518156, 3.51468416, 3.56418675, 3.61368934, 3.66319194,\n",
       "        3.71269453, 3.76219712, 3.81169972, 3.86120231, 3.91070491,\n",
       "        3.9602075 , 4.00971009, 4.05921269, 4.10871528, 4.15821787,\n",
       "        4.20772047, 4.25722306, 4.30672565, 4.35622825, 4.40573084,\n",
       "        4.45523344, 4.50473603, 4.55423862, 4.60374122, 4.65324381,\n",
       "        4.7027464 , 4.752249  , 4.80175159, 4.85125419, 4.90075678,\n",
       "        4.95025937]),\n",
       " <BarContainer object of 100 artists>)"
      ]
     },
     "execution_count": 18,
     "metadata": {},
     "output_type": "execute_result"
    },
    {
     "data": {
      "image/png": "[encoded data removed]",
      "text/plain": [
       "<Figure size 432x288 with 1 Axes>"
      ]
     },
     "metadata": {
      "needs_background": "light"
     },
     "output_type": "display_data"
    }
   ],
   "source": [
    "print(x[...,0].flatten().shape)\n",
    "print(np.count_nonzero(x[...,0] > 1.5))\n",
    "plt.hist(x[...,0].flatten(),bins=100)"
   ]
  },
  {
   "cell_type": "code",
   "execution_count": null,
   "metadata": {},
   "outputs": [],
   "source": [
    "# 85/15 split for training/testing\n",
    "energy = y['energy']\n",
    "comp = y['comp']\n",
    "theta, phi = y['dir'].transpose()\n",
    "nevents = len(energy)\n",
    "randSel = np.random.uniform(size=nevents)\n",
    "trainCut = randSel < 0.7\n",
    "valCut = np.logical_and(randSel>0.7,randSel<0.9)\n",
    "testCut = randSel > 0.9"
   ]
  },
  {
   "cell_type": "markdown",
   "metadata": {},
   "source": [
    "## Model Training"
   ]
  },
  {
   "cell_type": "markdown",
   "metadata": {},
   "source": [
    "### Alpha Model\n",
    "- Input: no charge merge, no time layers included, normalized data\n",
    "- Layers: Two convolutional\n",
    "- Output: Energy"
   ]
  },
  {
   "cell_type": "code",
   "execution_count": null,
   "metadata": {},
   "outputs": [],
   "source": [
    "# Name for model\n",
    "key = 'first_model'\n",
    "\n",
    "# Data preparation: no merging of charge (q), no time layers included (t=False), data normalized from 0-1\n",
    "prep = {'q':None, 't':False, 'normed':True}"
   ]
  },
  {
   "cell_type": "code",
   "execution_count": null,
   "metadata": {},
   "outputs": [],
   "source": [
    "# Create model\n",
    "model = Sequential(name=nameModel(prep, 'test'))  # Automatic naming for flexible assessment later\n",
    "# Add model layers\n",
    "model.add(Conv2D(64, kernel_size=3, activation='relu', input_shape=(10,10,2)))\n",
    "model.add(Conv2D(32, kernel_size=3, activation='relu'))\n",
    "model.add(Flatten())\n",
    "model.add(Dense(1)) # No activation function for last layer of regression model\n",
    "\n",
    "# Compile model\n",
    "model.compile(loss='mean_squared_error', optimizer='adam', metrics=['mae','mse'])"
   ]
  },
  {
   "cell_type": "code",
   "execution_count": null,
   "metadata": {},
   "outputs": [],
   "source": [
    "# Establish arrays to be trained on\n",
    "x_i = dataPrep(x, y, **prep)\n",
    "temp_y = energy"
   ]
  },
  {
   "cell_type": "code",
   "execution_count": null,
   "metadata": {},
   "outputs": [],
   "source": [
    "# Train\n",
    "history = model.fit(x_i[trainCut], temp_y[trainCut], validation_data=(x_i[valCut], temp_y[valCut]), epochs=3)"
   ]
  },
  {
   "cell_type": "code",
   "execution_count": null,
   "metadata": {},
   "outputs": [],
   "source": [
    "# Save model to file for easy loading\n",
    "## WHERE ARE YOU SAVING TO?\n",
    "model.save('model_%s.h5' % key)\n",
    "model.evaluate(x_i[testCut], temp_y[testCut])"
   ]
  },
  {
   "cell_type": "markdown",
   "metadata": {},
   "source": [
    "## Your task"
   ]
  },
  {
   "cell_type": "markdown",
   "metadata": {},
   "source": [
    "- **Create your own model**\n",
    "- Replace the model here w/ *simplified* form of Brandon's model (focus: including zenith)\n",
    "- change the zenith input to cosine(zenith) input"
   ]
  },
  {
   "cell_type": "code",
   "execution_count": null,
   "metadata": {},
   "outputs": [],
   "source": [
    "history.history"
   ]
  }
 ],
 "metadata": {
  "kernelspec": {
   "display_name": "Python 3",
   "language": "python",
   "name": "python3"
  },
  "language_info": {
   "codemirror_mode": {
    "name": "ipython",
    "version": 3
   },
   "file_extension": ".py",
   "mimetype": "text/x-python",
   "name": "python",
   "nbconvert_exporter": "python",
   "pygments_lexer": "ipython3",
   "version": "3.6.13"
  }
 },
 "nbformat": 4,
 "nbformat_minor": 2
}
