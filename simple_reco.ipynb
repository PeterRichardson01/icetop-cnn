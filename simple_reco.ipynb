{
 "cells": [
  {
   "cell_type": "markdown",
   "metadata": {},
   "source": [
    "# Energy Reconstruction Using CNN"
   ]
  },
  {
   "cell_type": "code",
   "execution_count": 1,
   "metadata": {},
   "outputs": [],
   "source": [
    "import numpy as np\n",
    "import tensorflow as tf\n",
    "import os\n",
    "import matplotlib.pyplot as plt\n",
    "\n",
    "from tensorflow.keras.models import Sequential\n",
    "from tensorflow.keras.layers import Dense, Conv2D, Flatten\n",
    "\n",
    "from tensorflow.keras.callbacks import ModelCheckpoint\n",
    "\n",
    "from data_tools import load_preprocessed, dataPrep, nameModel\n",
    "\n",
    "## FIX THIS!\n",
    "simPrefix = os.getcwd()+'\\\\simdata'"
   ]
  },
  {
   "cell_type": "markdown",
   "metadata": {},
   "source": [
    "## Data Input"
   ]
  },
  {
   "cell_type": "code",
   "execution_count": 2,
   "metadata": {},
   "outputs": [
    {
     "name": "stdout",
     "output_type": "stream",
     "text": [
      "Percentage of events with a NaN: 2.68\n"
     ]
    }
   ],
   "source": [
    "x, y = load_preprocessed(simPrefix, 'train')"
   ]
  },
  {
   "cell_type": "code",
   "execution_count": 3,
   "metadata": {
    "scrolled": true
   },
   "outputs": [
    {
     "name": "stdout",
     "output_type": "stream",
     "text": [
      "(549773, 10, 10, 4)\n",
      "dict_keys(['comp', 'energy', 'dir', 'plane_dir', 'laputop_dir', 'small_dir'])\n"
     ]
    }
   ],
   "source": [
    "print(x.shape)\n",
    "print(y.keys())\n",
    "# each station has 2 tanks, each tank has 2 DOMs (high/log gain)\n",
    "# each tank measures charge and time\n",
    "# each station gives 2 charges and 2 times, 4 pieces of data\n",
    "# x: (num, i, j, data)\n",
    "# charge measured in VEM, vertical equivalent muon\n",
    "\n",
    "# 'dir' is true direction, rest of dir are reconstructed by simulations\n",
    "# plane assumes shower is flat plane\n",
    "# laputop performs likelihood analysis\n",
    "# small compromises between"
   ]
  },
  {
   "cell_type": "code",
   "execution_count": 3,
   "metadata": {},
   "outputs": [
    {
     "data": {
      "text/plain": [
       "(549773,)"
      ]
     },
     "execution_count": 3,
     "metadata": {},
     "output_type": "execute_result"
    }
   ],
   "source": [
    "# 85/15 split for training/testing\n",
    "energy = y['energy']\n",
    "comp = y['comp']\n",
    "theta, phi = y['dir'].transpose()\n",
    "nevents = len(energy)\n",
    "randSel = np.random.uniform(size=nevents)\n",
    "trainCut = randSel < 0.85\n",
    "valCut = np.logical_not(trainCut)\n",
    "energy.shape"
   ]
  },
  {
   "cell_type": "code",
   "execution_count": 5,
   "metadata": {},
   "outputs": [
    {
     "data": {
      "text/plain": [
       "(array([   52.,    80.,    83.,   129.,   159.,    92.,   187.,   211.,\n",
       "          255.,   277.,   285.,   389.,   422.,   541.,   526.,   685.,\n",
       "          787.,   954.,  1049.,  1249.,  1268.,  1463.,  1655.,  1750.,\n",
       "         1908.,  2102.,  2711.,  3124.,  3324.,  3686.,  3949.,  3974.,\n",
       "         4915.,  3387.,  3070.,  3232.,  3166.,  3634.,  3943.,  4178.,\n",
       "         4551.,  4497.,  5040.,  5436.,  5441.,  5649.,  5659.,  6329.,\n",
       "         6279.,  6820.,  6047.,  7009.,  8006.,  7950.,  8297.,  8436.,\n",
       "         8520.,  8601.,  9076.,  9696.,  9830., 10713.,  9737., 10732.,\n",
       "        12131., 10289.,  9602.,  4895.,  5198.,  5594.,  5596.,  6294.,\n",
       "         5773.,  6021.,  6240.,  6311.,  6753.,  7024.,  7200.,  6564.,\n",
       "         7888.,  6678.,  7667.,  8416.,  8197.,  8115.,  8535.,  8404.,\n",
       "         9498.,  9570.,  8628., 10626., 10270., 10337., 10562., 10735.,\n",
       "        11115., 11083., 12728., 12034.]),\n",
       " array([5.00020167, 5.03019956, 5.06019745, 5.09019534, 5.12019323,\n",
       "        5.15019112, 5.18018901, 5.2101869 , 5.24018479, 5.27018268,\n",
       "        5.30018057, 5.33017846, 5.36017635, 5.39017424, 5.42017213,\n",
       "        5.45017003, 5.48016792, 5.51016581, 5.5401637 , 5.57016159,\n",
       "        5.60015948, 5.63015737, 5.66015526, 5.69015315, 5.72015104,\n",
       "        5.75014893, 5.78014682, 5.81014471, 5.8401426 , 5.87014049,\n",
       "        5.90013838, 5.93013628, 5.96013417, 5.99013206, 6.02012995,\n",
       "        6.05012784, 6.08012573, 6.11012362, 6.14012151, 6.1701194 ,\n",
       "        6.20011729, 6.23011518, 6.26011307, 6.29011096, 6.32010885,\n",
       "        6.35010674, 6.38010463, 6.41010252, 6.44010042, 6.47009831,\n",
       "        6.5000962 , 6.53009409, 6.56009198, 6.59008987, 6.62008776,\n",
       "        6.65008565, 6.68008354, 6.71008143, 6.74007932, 6.77007721,\n",
       "        6.8000751 , 6.83007299, 6.86007088, 6.89006877, 6.92006667,\n",
       "        6.95006456, 6.98006245, 7.01006034, 7.04005823, 7.07005612,\n",
       "        7.10005401, 7.1300519 , 7.16004979, 7.19004768, 7.22004557,\n",
       "        7.25004346, 7.28004135, 7.31003924, 7.34003713, 7.37003502,\n",
       "        7.40003292, 7.43003081, 7.4600287 , 7.49002659, 7.52002448,\n",
       "        7.55002237, 7.58002026, 7.61001815, 7.64001604, 7.67001393,\n",
       "        7.70001182, 7.73000971, 7.7600076 , 7.79000549, 7.82000338,\n",
       "        7.85000127, 7.87999916, 7.90999706, 7.93999495, 7.96999284,\n",
       "        7.99999073]),\n",
       " <BarContainer object of 100 artists>)"
      ]
     },
     "execution_count": 5,
     "metadata": {},
     "output_type": "execute_result"
    },
    {
     "data": {
      "image/png": "[encoded data removed]",
      "text/plain": [
       "<Figure size 432x288 with 1 Axes>"
      ]
     },
     "metadata": {
      "needs_background": "light"
     },
     "output_type": "display_data"
    }
   ],
   "source": [
    "plt.hist(energy,bins=100)"
   ]
  },
  {
   "cell_type": "code",
   "execution_count": 4,
   "metadata": {},
   "outputs": [
    {
     "name": "stdout",
     "output_type": "stream",
     "text": [
      "(54977300,)\n",
      "Proportion of stations with Q1 != 0: [[[0.         0.         0.         0.         0.00250476 0.00285249\n",
      "   0.00282678 0.00270814 0.0026237  0.00245259]\n",
      "  [0.         0.         0.         0.00291728 0.00281578 0.00330051\n",
      "   0.00339235 0.00302066 0.00328963 0.00239819]\n",
      "  [0.         0.         0.00280283 0.00275603 0.00325654 0.00354888\n",
      "   0.00321302 0.00343811 0.00313742 0.00188707]\n",
      "  [0.         0.00265495 0.00301615 0.00325762 0.00302265 0.00281256\n",
      "   0.00383427 0.00317162 0.00200712 0.00172391]\n",
      "  [0.00237098 0.00283588 0.00334796 0.00310728 0.00306828 0.00343369\n",
      "   0.00397992 0.00212375 0.00219074 0.00172175]\n",
      "  [0.00238244 0.00288907 0.00317045 0.00291891 0.00257946 0.00246082\n",
      "   0.0022942  0.00196303 0.00201309 0.00171082]\n",
      "  [0.00263436 0.00289903 0.00287006 0.00284872 0.00237491 0.00236476\n",
      "   0.00244266 0.00210705 0.00170838 0.        ]\n",
      "  [0.00235705 0.00290192 0.00275294 0.00283981 0.00223687 0.00227541\n",
      "   0.00200799 0.00184676 0.         0.        ]\n",
      "  [0.00218748 0.00266919 0.00260451 0.0022922  0.00224342 0.00209128\n",
      "   0.00177451 0.         0.         0.        ]\n",
      "  [0.0021126  0.00207062 0.0020368  0.00198229 0.         0.\n",
      "   0.         0.         0.         0.        ]]]\n",
      "Proportion of stations with Q1 != 0: 0.20473971984801\n",
      "Proportion of stations with Q2 != 0: 0.20718010888130192\n",
      "Proportion of stations with Q1 and Q2 = 0: 0.7224666362298622\n",
      "Proportion of energy != 0: 1.0\n"
     ]
    }
   ],
   "source": [
    "print(x[...,0].flatten().shape)\n",
    "print('Proportion of stations with Q1 != 0:',np.count_nonzero(x[...,0],axis=0,keepdims=True)/54977300)\n",
    "print('Proportion of stations with Q1 != 0:',np.count_nonzero(x[...,0])/54977300)\n",
    "print('Proportion of stations with Q2 != 0:',np.count_nonzero(x[...,1])/54977300)\n",
    "print('Proportion of stations with Q1 and Q2 = 0:',np.count_nonzero(np.logical_and(x[...,0] == 0.0,x[...,1] == 0.0))/54977300)\n",
    "print('Proportion of energy != 0:',np.count_nonzero(energy)/549773)"
   ]
  },
  {
   "cell_type": "code",
   "execution_count": 6,
   "metadata": {},
   "outputs": [
    {
     "data": {
      "text/plain": [
       "(array([4.3753712e+07, 8.5081000e+05, 1.2861020e+06, 1.0464960e+06,\n",
       "        8.7215200e+05, 8.1043600e+05, 8.8325000e+05, 8.3876500e+05,\n",
       "        6.8673900e+05, 5.4230400e+05, 4.3348300e+05, 3.5975900e+05,\n",
       "        3.0330200e+05, 2.5937200e+05, 2.2181900e+05, 1.9147700e+05,\n",
       "        1.6777000e+05, 1.4623300e+05, 1.2814500e+05, 1.1295900e+05,\n",
       "        1.0114600e+05, 9.1613000e+04, 8.2745000e+04, 7.5113000e+04,\n",
       "        6.8428000e+04, 6.2669000e+04, 5.4995000e+04, 5.0141000e+04,\n",
       "        4.2110000e+04, 3.7714000e+04, 3.6397000e+04, 3.3408000e+04,\n",
       "        3.0618000e+04, 2.7442000e+04, 2.5191000e+04, 2.2881000e+04,\n",
       "        2.1131000e+04, 1.9179000e+04, 1.7584000e+04, 1.6431000e+04,\n",
       "        1.4722000e+04, 1.3546000e+04, 1.2269000e+04, 1.1295000e+04,\n",
       "        1.0321000e+04, 9.1580000e+03, 8.2680000e+03, 7.4880000e+03,\n",
       "        6.8450000e+03, 6.1850000e+03, 5.4370000e+03, 4.6140000e+03,\n",
       "        3.7910000e+03, 2.6380000e+03, 1.8270000e+03, 1.1740000e+03,\n",
       "        1.0560000e+03, 1.1030000e+03, 1.0270000e+03, 1.1540000e+03,\n",
       "        1.2910000e+03, 1.3450000e+03, 1.6230000e+03, 1.7610000e+03,\n",
       "        1.8380000e+03, 2.0250000e+03, 2.0840000e+03, 2.2050000e+03,\n",
       "        2.2780000e+03, 2.3250000e+03, 2.3330000e+03, 2.2190000e+03,\n",
       "        2.2170000e+03, 1.9810000e+03, 1.6950000e+03, 1.5950000e+03,\n",
       "        1.2770000e+03, 1.0890000e+03, 9.5600000e+02, 8.3700000e+02,\n",
       "        8.1500000e+02, 7.0100000e+02, 6.3800000e+02, 5.6800000e+02,\n",
       "        5.2200000e+02, 5.0800000e+02, 4.3400000e+02, 3.7700000e+02,\n",
       "        3.5900000e+02, 2.8800000e+02, 2.5200000e+02, 2.1800000e+02,\n",
       "        2.1800000e+02, 1.7600000e+02, 1.1700000e+02, 8.9000000e+01,\n",
       "        5.4000000e+01, 2.5000000e+01, 1.9000000e+01, 9.0000000e+00]),\n",
       " array([0.        , 0.04950259, 0.09900519, 0.14850778, 0.19801037,\n",
       "        0.24751297, 0.29701556, 0.34651816, 0.39602075, 0.44552334,\n",
       "        0.49502594, 0.54452853, 0.59403112, 0.64353372, 0.69303631,\n",
       "        0.74253891, 0.7920415 , 0.84154409, 0.89104669, 0.94054928,\n",
       "        0.99005187, 1.03955447, 1.08905706, 1.13855966, 1.18806225,\n",
       "        1.23756484, 1.28706744, 1.33657003, 1.38607262, 1.43557522,\n",
       "        1.48507781, 1.53458041, 1.584083  , 1.63358559, 1.68308819,\n",
       "        1.73259078, 1.78209337, 1.83159597, 1.88109856, 1.93060116,\n",
       "        1.98010375, 2.02960634, 2.07910894, 2.12861153, 2.17811412,\n",
       "        2.22761672, 2.27711931, 2.32662191, 2.3761245 , 2.42562709,\n",
       "        2.47512969, 2.52463228, 2.57413487, 2.62363747, 2.67314006,\n",
       "        2.72264266, 2.77214525, 2.82164784, 2.87115044, 2.92065303,\n",
       "        2.97015562, 3.01965822, 3.06916081, 3.11866341, 3.168166  ,\n",
       "        3.21766859, 3.26717119, 3.31667378, 3.36617637, 3.41567897,\n",
       "        3.46518156, 3.51468416, 3.56418675, 3.61368934, 3.66319194,\n",
       "        3.71269453, 3.76219712, 3.81169972, 3.86120231, 3.91070491,\n",
       "        3.9602075 , 4.00971009, 4.05921269, 4.10871528, 4.15821787,\n",
       "        4.20772047, 4.25722306, 4.30672565, 4.35622825, 4.40573084,\n",
       "        4.45523344, 4.50473603, 4.55423862, 4.60374122, 4.65324381,\n",
       "        4.7027464 , 4.752249  , 4.80175159, 4.85125419, 4.90075678,\n",
       "        4.95025937]),\n",
       " <BarContainer object of 100 artists>)"
      ]
     },
     "execution_count": 6,
     "metadata": {},
     "output_type": "execute_result"
    },
    {
     "data": {
      "image/png": "[encoded data removed]",
      "text/plain": [
       "<Figure size 432x288 with 1 Axes>"
      ]
     },
     "metadata": {
      "needs_background": "light"
     },
     "output_type": "display_data"
    }
   ],
   "source": [
    "plt.hist(x[...,0].flatten(),bins=100)"
   ]
  },
  {
   "cell_type": "code",
   "execution_count": 44,
   "metadata": {},
   "outputs": [
    {
     "data": {
      "text/plain": [
       "(array([4.679900e+04, 9.267980e+05, 1.272329e+06, 1.031748e+06,\n",
       "        8.627780e+05, 8.122870e+05, 8.854100e+05, 8.299280e+05,\n",
       "        6.768300e+05, 5.340170e+05, 4.278650e+05, 3.557000e+05,\n",
       "        3.002300e+05, 2.568020e+05, 2.198980e+05, 1.894770e+05,\n",
       "        1.665970e+05, 1.449760e+05, 1.270010e+05, 1.121250e+05,\n",
       "        1.005980e+05, 9.095800e+04, 8.238500e+04, 7.456400e+04,\n",
       "        6.811300e+04, 6.238000e+04, 5.453600e+04, 4.986000e+04,\n",
       "        4.170200e+04, 3.766900e+04, 3.617100e+04, 3.328200e+04,\n",
       "        3.042000e+04, 2.726300e+04, 2.513800e+04, 2.278100e+04,\n",
       "        2.100100e+04, 1.908500e+04, 1.756200e+04, 1.632900e+04,\n",
       "        1.463400e+04, 1.348900e+04, 1.223200e+04, 1.127200e+04,\n",
       "        1.024600e+04, 9.125000e+03, 8.229000e+03, 7.466000e+03,\n",
       "        6.804000e+03, 6.168000e+03, 5.394000e+03, 4.635000e+03,\n",
       "        3.714000e+03, 2.589000e+03, 1.818000e+03, 1.163000e+03,\n",
       "        1.048000e+03, 1.098000e+03, 1.034000e+03, 1.157000e+03,\n",
       "        1.294000e+03, 1.350000e+03, 1.621000e+03, 1.766000e+03,\n",
       "        1.843000e+03, 2.029000e+03, 2.083000e+03, 2.225000e+03,\n",
       "        2.256000e+03, 2.325000e+03, 2.334000e+03, 2.218000e+03,\n",
       "        2.201000e+03, 1.987000e+03, 1.681000e+03, 1.593000e+03,\n",
       "        1.274000e+03, 1.085000e+03, 9.540000e+02, 8.390000e+02,\n",
       "        8.100000e+02, 6.970000e+02, 6.360000e+02, 5.680000e+02,\n",
       "        5.260000e+02, 5.040000e+02, 4.340000e+02, 3.820000e+02,\n",
       "        3.520000e+02, 2.880000e+02, 2.500000e+02, 2.200000e+02,\n",
       "        2.170000e+02, 1.770000e+02, 1.150000e+02, 8.900000e+01,\n",
       "        5.400000e+01, 2.500000e+01, 1.900000e+01, 9.000000e+00]),\n",
       " array([3.38005570e-03, 5.28488489e-02, 1.02317642e-01, 1.51786435e-01,\n",
       "        2.01255228e-01, 2.50724022e-01, 3.00192815e-01, 3.49661608e-01,\n",
       "        3.99130401e-01, 4.48599194e-01, 4.98067987e-01, 5.47536781e-01,\n",
       "        5.97005574e-01, 6.46474367e-01, 6.95943160e-01, 7.45411953e-01,\n",
       "        7.94880747e-01, 8.44349540e-01, 8.93818333e-01, 9.43287126e-01,\n",
       "        9.92755919e-01, 1.04222471e+00, 1.09169351e+00, 1.14116230e+00,\n",
       "        1.19063109e+00, 1.24009989e+00, 1.28956868e+00, 1.33903747e+00,\n",
       "        1.38850626e+00, 1.43797506e+00, 1.48744385e+00, 1.53691264e+00,\n",
       "        1.58638144e+00, 1.63585023e+00, 1.68531902e+00, 1.73478782e+00,\n",
       "        1.78425661e+00, 1.83372540e+00, 1.88319420e+00, 1.93266299e+00,\n",
       "        1.98213178e+00, 2.03160058e+00, 2.08106937e+00, 2.13053816e+00,\n",
       "        2.18000696e+00, 2.22947575e+00, 2.27894454e+00, 2.32841334e+00,\n",
       "        2.37788213e+00, 2.42735092e+00, 2.47681971e+00, 2.52628851e+00,\n",
       "        2.57575730e+00, 2.62522609e+00, 2.67469489e+00, 2.72416368e+00,\n",
       "        2.77363247e+00, 2.82310127e+00, 2.87257006e+00, 2.92203885e+00,\n",
       "        2.97150765e+00, 3.02097644e+00, 3.07044523e+00, 3.11991403e+00,\n",
       "        3.16938282e+00, 3.21885161e+00, 3.26832041e+00, 3.31778920e+00,\n",
       "        3.36725799e+00, 3.41672678e+00, 3.46619558e+00, 3.51566437e+00,\n",
       "        3.56513316e+00, 3.61460196e+00, 3.66407075e+00, 3.71353954e+00,\n",
       "        3.76300834e+00, 3.81247713e+00, 3.86194592e+00, 3.91141472e+00,\n",
       "        3.96088351e+00, 4.01035230e+00, 4.05982110e+00, 4.10928989e+00,\n",
       "        4.15875868e+00, 4.20822748e+00, 4.25769627e+00, 4.30716506e+00,\n",
       "        4.35663386e+00, 4.40610265e+00, 4.45557144e+00, 4.50504023e+00,\n",
       "        4.55450903e+00, 4.60397782e+00, 4.65344661e+00, 4.70291541e+00,\n",
       "        4.75238420e+00, 4.80185299e+00, 4.85132179e+00, 4.90079058e+00,\n",
       "        4.95025937e+00]),\n",
       " <BarContainer object of 100 artists>)"
      ]
     },
     "execution_count": 44,
     "metadata": {},
     "output_type": "execute_result"
    },
    {
     "data": {
      "image/png": "[encoded data removed]",
      "text/plain": [
       "<Figure size 432x288 with 1 Axes>"
      ]
     },
     "metadata": {
      "needs_background": "light"
     },
     "output_type": "display_data"
    }
   ],
   "source": [
    "plt.hist(x[x[...,0]!=0.0,0].flatten(),bins=100)"
   ]
  },
  {
   "cell_type": "code",
   "execution_count": 20,
   "metadata": {},
   "outputs": [
    {
     "data": {
      "text/plain": [
       "(array([5.493000e+04, 9.872150e+05, 1.290617e+06, 1.038011e+06,\n",
       "        8.632230e+05, 8.052650e+05, 8.822760e+05, 8.311710e+05,\n",
       "        6.820680e+05, 5.395110e+05, 4.318090e+05, 3.568630e+05,\n",
       "        3.025000e+05, 2.587980e+05, 2.215320e+05, 1.924280e+05,\n",
       "        1.675230e+05, 1.472540e+05, 1.284860e+05, 1.139070e+05,\n",
       "        1.014040e+05, 9.167500e+04, 8.395600e+04, 7.559700e+04,\n",
       "        6.995800e+04, 6.322200e+04, 5.594300e+04, 4.924500e+04,\n",
       "        4.287600e+04, 3.836300e+04, 3.620600e+04, 3.380800e+04,\n",
       "        3.102600e+04, 2.809400e+04, 2.567900e+04, 2.294000e+04,\n",
       "        2.117300e+04, 1.946800e+04, 1.789000e+04, 1.651800e+04,\n",
       "        1.506900e+04, 1.373700e+04, 1.261200e+04, 1.144700e+04,\n",
       "        1.055500e+04, 9.355000e+03, 8.511000e+03, 7.710000e+03,\n",
       "        6.929000e+03, 6.343000e+03, 5.529000e+03, 4.802000e+03,\n",
       "        3.893000e+03, 2.670000e+03, 1.770000e+03, 1.324000e+03,\n",
       "        1.067000e+03, 1.094000e+03, 1.140000e+03, 1.234000e+03,\n",
       "        1.314000e+03, 1.426000e+03, 1.647000e+03, 1.811000e+03,\n",
       "        1.962000e+03, 2.080000e+03, 2.185000e+03, 2.287000e+03,\n",
       "        2.366000e+03, 2.409000e+03, 2.353000e+03, 2.239000e+03,\n",
       "        2.142000e+03, 2.103000e+03, 1.795000e+03, 1.575000e+03,\n",
       "        1.362000e+03, 1.194000e+03, 1.001000e+03, 9.070000e+02,\n",
       "        8.160000e+02, 7.600000e+02, 6.810000e+02, 6.350000e+02,\n",
       "        5.890000e+02, 4.940000e+02, 4.360000e+02, 4.220000e+02,\n",
       "        4.300000e+02, 3.390000e+02, 2.930000e+02, 2.390000e+02,\n",
       "        2.260000e+02, 1.760000e+02, 1.340000e+02, 7.700000e+01,\n",
       "        5.100000e+01, 2.000000e+01, 5.000000e+00, 3.000000e+00]),\n",
       " array([3.87749691e-03, 5.29531240e-02, 1.02028751e-01, 1.51104378e-01,\n",
       "        2.00180005e-01, 2.49255632e-01, 2.98331259e-01, 3.47406887e-01,\n",
       "        3.96482514e-01, 4.45558141e-01, 4.94633768e-01, 5.43709395e-01,\n",
       "        5.92785022e-01, 6.41860649e-01, 6.90936276e-01, 7.40011903e-01,\n",
       "        7.89087530e-01, 8.38163158e-01, 8.87238785e-01, 9.36314412e-01,\n",
       "        9.85390039e-01, 1.03446567e+00, 1.08354129e+00, 1.13261692e+00,\n",
       "        1.18169255e+00, 1.23076817e+00, 1.27984380e+00, 1.32891943e+00,\n",
       "        1.37799506e+00, 1.42707068e+00, 1.47614631e+00, 1.52522194e+00,\n",
       "        1.57429756e+00, 1.62337319e+00, 1.67244882e+00, 1.72152445e+00,\n",
       "        1.77060007e+00, 1.81967570e+00, 1.86875133e+00, 1.91782695e+00,\n",
       "        1.96690258e+00, 2.01597821e+00, 2.06505383e+00, 2.11412946e+00,\n",
       "        2.16320509e+00, 2.21228072e+00, 2.26135634e+00, 2.31043197e+00,\n",
       "        2.35950760e+00, 2.40858322e+00, 2.45765885e+00, 2.50673448e+00,\n",
       "        2.55581011e+00, 2.60488573e+00, 2.65396136e+00, 2.70303699e+00,\n",
       "        2.75211261e+00, 2.80118824e+00, 2.85026387e+00, 2.89933950e+00,\n",
       "        2.94841512e+00, 2.99749075e+00, 3.04656638e+00, 3.09564200e+00,\n",
       "        3.14471763e+00, 3.19379326e+00, 3.24286889e+00, 3.29194451e+00,\n",
       "        3.34102014e+00, 3.39009577e+00, 3.43917139e+00, 3.48824702e+00,\n",
       "        3.53732265e+00, 3.58639827e+00, 3.63547390e+00, 3.68454953e+00,\n",
       "        3.73362516e+00, 3.78270078e+00, 3.83177641e+00, 3.88085204e+00,\n",
       "        3.92992766e+00, 3.97900329e+00, 4.02807892e+00, 4.07715455e+00,\n",
       "        4.12623017e+00, 4.17530580e+00, 4.22438143e+00, 4.27345705e+00,\n",
       "        4.32253268e+00, 4.37160831e+00, 4.42068394e+00, 4.46975956e+00,\n",
       "        4.51883519e+00, 4.56791082e+00, 4.61698644e+00, 4.66606207e+00,\n",
       "        4.71513770e+00, 4.76421333e+00, 4.81328895e+00, 4.86236458e+00,\n",
       "        4.91144021e+00]),\n",
       " <BarContainer object of 100 artists>)"
      ]
     },
     "execution_count": 20,
     "metadata": {},
     "output_type": "execute_result"
    },
    {
     "data": {
      "image/png": "[encoded data removed]",
      "text/plain": [
       "<Figure size 432x288 with 1 Axes>"
      ]
     },
     "metadata": {
      "needs_background": "light"
     },
     "output_type": "display_data"
    }
   ],
   "source": [
    "plt.hist(x[x[...,1]!=0.0,1].flatten(),bins=100)"
   ]
  },
  {
   "cell_type": "code",
   "execution_count": 24,
   "metadata": {},
   "outputs": [
    {
     "data": {
      "text/plain": [
       "(array([1.000000e+00, 0.000000e+00, 1.000000e+00, 0.000000e+00,\n",
       "        0.000000e+00, 2.000000e+00, 0.000000e+00, 2.000000e+00,\n",
       "        1.000000e+00, 2.000000e+00, 3.000000e+00, 7.000000e+00,\n",
       "        9.000000e+00, 5.000000e+00, 1.200000e+01, 1.700000e+01,\n",
       "        1.700000e+01, 2.400000e+01, 2.600000e+01, 4.500000e+01,\n",
       "        4.600000e+01, 6.800000e+01, 9.200000e+01, 9.800000e+01,\n",
       "        1.420000e+02, 1.810000e+02, 2.540000e+02, 3.320000e+02,\n",
       "        5.060000e+02, 7.460000e+02, 1.028000e+03, 1.408000e+03,\n",
       "        2.119000e+03, 3.111000e+03, 4.508000e+03, 6.552000e+03,\n",
       "        1.083000e+04, 1.787800e+04, 3.033000e+04, 5.156300e+04,\n",
       "        8.790900e+04, 1.539200e+05, 2.739970e+05, 4.699120e+05,\n",
       "        6.741690e+05, 7.223700e+05, 8.535380e+05, 1.143214e+06,\n",
       "        1.548389e+06, 1.120093e+06, 8.899380e+05, 1.249249e+06,\n",
       "        1.540529e+06, 1.111499e+06, 8.339620e+05, 7.251180e+05,\n",
       "        6.616020e+05, 4.482000e+05, 2.604220e+05, 1.461240e+05,\n",
       "        8.377700e+04, 4.962700e+04, 2.936200e+04, 1.735500e+04,\n",
       "        1.040000e+04, 6.594000e+03, 4.442000e+03, 3.148000e+03,\n",
       "        2.227000e+03, 1.491000e+03, 9.640000e+02, 7.230000e+02,\n",
       "        5.120000e+02, 3.330000e+02, 2.470000e+02, 1.470000e+02,\n",
       "        1.500000e+02, 9.900000e+01, 8.200000e+01, 5.900000e+01,\n",
       "        4.300000e+01, 3.400000e+01, 2.200000e+01, 1.800000e+01,\n",
       "        1.100000e+01, 8.000000e+00, 1.000000e+01, 7.000000e+00,\n",
       "        5.000000e+00, 9.000000e+00, 2.000000e+00, 1.000000e+00,\n",
       "        2.000000e+00, 0.000000e+00, 0.000000e+00, 0.000000e+00,\n",
       "        2.000000e+00, 1.000000e+00, 0.000000e+00, 1.000000e+00]),\n",
       " array([-2.88964319, -2.83235489, -2.7750666 , -2.7177783 , -2.66049001,\n",
       "        -2.60320171, -2.54591342, -2.48862512, -2.43133683, -2.37404853,\n",
       "        -2.31676024, -2.25947194, -2.20218365, -2.14489535, -2.08760706,\n",
       "        -2.03031876, -1.97303047, -1.91574217, -1.85845388, -1.80116558,\n",
       "        -1.74387729, -1.68658899, -1.6293007 , -1.5720124 , -1.51472411,\n",
       "        -1.45743581, -1.40014752, -1.34285922, -1.28557093, -1.22828263,\n",
       "        -1.17099434, -1.11370604, -1.05641775, -0.99912945, -0.94184116,\n",
       "        -0.88455286, -0.82726457, -0.76997627, -0.71268798, -0.65539968,\n",
       "        -0.59811139, -0.54082309, -0.4835348 , -0.4262465 , -0.36895821,\n",
       "        -0.31166991, -0.25438162, -0.19709332, -0.13980503, -0.08251673,\n",
       "        -0.02522843,  0.03205986,  0.08934816,  0.14663645,  0.20392475,\n",
       "         0.26121304,  0.31850134,  0.37578963,  0.43307793,  0.49036622,\n",
       "         0.54765452,  0.60494281,  0.66223111,  0.7195194 ,  0.7768077 ,\n",
       "         0.83409599,  0.89138429,  0.94867258,  1.00596088,  1.06324917,\n",
       "         1.12053747,  1.17782576,  1.23511406,  1.29240235,  1.34969065,\n",
       "         1.40697894,  1.46426724,  1.52155553,  1.57884383,  1.63613212,\n",
       "         1.69342042,  1.75070871,  1.80799701,  1.8652853 ,  1.9225736 ,\n",
       "         1.97986189,  2.03715019,  2.09443848,  2.15172678,  2.20901507,\n",
       "         2.26630337,  2.32359166,  2.38087996,  2.43816825,  2.49545655,\n",
       "         2.55274484,  2.61003314,  2.66732143,  2.72460973,  2.78189802,\n",
       "         2.83918632]),\n",
       " <BarContainer object of 100 artists>)"
      ]
     },
     "execution_count": 24,
     "metadata": {},
     "output_type": "execute_result"
    },
    {
     "data": {
      "image/png": "[encoded data removed]",
      "text/plain": [
       "<Figure size 432x288 with 1 Axes>"
      ]
     },
     "metadata": {
      "needs_background": "light"
     },
     "output_type": "display_data"
    }
   ],
   "source": [
    "notBothZero = np.invert(np.logical_and(x[...,0] == 0.0,x[...,1] == 0.0))\n",
    "plt.hist(x[notBothZero,1].flatten()-x[notBothZero,0].flatten(),bins=100)"
   ]
  },
  {
   "cell_type": "markdown",
   "metadata": {},
   "source": [
    "## Model Training"
   ]
  },
  {
   "cell_type": "markdown",
   "metadata": {},
   "source": [
    "### Alpha Model\n",
    "- Input: no charge merge, no time layers included, normalized data\n",
    "- Layers: Two convolutional\n",
    "- Output: Energy"
   ]
  },
  {
   "cell_type": "code",
   "execution_count": null,
   "metadata": {},
   "outputs": [],
   "source": [
    "# Name for model\n",
    "key = 'first_model'\n",
    "\n",
    "# Data preparation: no merging of charge (q), no time layers included (t=False), data normalized from 0-1\n",
    "prep = {'q':None, 't':False, 'normed':True}"
   ]
  },
  {
   "cell_type": "code",
   "execution_count": null,
   "metadata": {},
   "outputs": [],
   "source": [
    "# Create model\n",
    "model = Sequential(name=nameModel(prep, 'test'))  # Automatic naming for flexible assessment later\n",
    "# Add model layers\n",
    "model.add(Conv2D(64, kernel_size=3, activation='relu', input_shape=(10,10,2)))\n",
    "model.add(Conv2D(32, kernel_size=3, activation='relu'))\n",
    "model.add(Flatten())\n",
    "model.add(Dense(1)) # No activation function for last layer of regression model\n",
    "\n",
    "# Compile model\n",
    "model.compile(loss='mean_squared_error', optimizer='adam', metrics=['mae','mse'])"
   ]
  },
  {
   "cell_type": "code",
   "execution_count": null,
   "metadata": {},
   "outputs": [],
   "source": [
    "# Establish arrays to be trained on\n",
    "x_i = dataPrep(x, y, **prep)\n",
    "temp_y = energy"
   ]
  },
  {
   "cell_type": "code",
   "execution_count": null,
   "metadata": {},
   "outputs": [],
   "source": [
    "# Train\n",
    "history = model.fit(x_i[trainCut], temp_y[trainCut], validation_data=(x_i[valCut], temp_y[valCut]), epochs=3)"
   ]
  },
  {
   "cell_type": "code",
   "execution_count": null,
   "metadata": {},
   "outputs": [],
   "source": [
    "# Save model to file for easy loading\n",
    "## WHERE ARE YOU SAVING TO?\n",
    "model.save('model_%s.h5' % key)\n",
    "model.evaluate(x_i[testCut], temp_y[testCut])"
   ]
  },
  {
   "cell_type": "markdown",
   "metadata": {},
   "source": [
    "## Your task"
   ]
  },
  {
   "cell_type": "markdown",
   "metadata": {},
   "source": [
    "- **Create your own model**\n",
    "- Replace the model here w/ *simplified* form of Brandon's model (focus: including zenith)\n",
    "- change the zenith input to cosine(zenith) input"
   ]
  },
  {
   "cell_type": "code",
   "execution_count": null,
   "metadata": {},
   "outputs": [],
   "source": [
    "history.history"
   ]
  }
 ],
 "metadata": {
  "kernelspec": {
   "display_name": "Python 3",
   "language": "python",
   "name": "python3"
  },
  "language_info": {
   "codemirror_mode": {
    "name": "ipython",
    "version": 3
   },
   "file_extension": ".py",
   "mimetype": "text/x-python",
   "name": "python",
   "nbconvert_exporter": "python",
   "pygments_lexer": "ipython3",
   "version": "3.6.13"
  }
 },
 "nbformat": 4,
 "nbformat_minor": 2
}
