{
 "cells": [
  {
   "cell_type": "code",
   "execution_count": 1,
   "id": "4fd2b062-1234-45f1-a5ce-ac9d96dea5a8",
   "metadata": {},
   "outputs": [],
   "source": [
    "import numpy as np\n",
    "import tensorflow as tf\n",
    "import os\n",
    "import matplotlib.pyplot as plt\n",
    "import csv \n",
    "from datetime import datetime\n",
    "\n",
    "from tensorflow import keras\n",
    "from keras import layers\n",
    "from keras import models\n",
    "from keras import callbacks\n",
    "\n",
    "from tensorflow.keras.layers import Dense, Conv2D, Flatten, Dropout \n",
    "from tensorflow.keras.callbacks import ModelCheckpoint, CSVLogger, EarlyStopping, History \n",
    "\n",
    "from data_tools import load_preprocessed, dataPrep, nameModel\n"
   ]
  },
  {
   "cell_type": "code",
   "execution_count": 3,
   "id": "f873aa86",
   "metadata": {},
   "outputs": [],
   "source": [
    "name = 'MOpoolingAverage' \n",
    "i = 0\n",
    "while (os.path.exists('models/{}.h5'.format(name+str(i)))):\n",
    "    i = i + 1 \n",
    "name = name+str(i) \n",
    "numepochs = 100\n",
    "prep = {'q':None, 't':False, 'normed':True, 'reco':'small', 'cosz':True}"
   ]
  },
  {
   "cell_type": "code",
   "execution_count": 6,
   "id": "023e4490",
   "metadata": {},
   "outputs": [],
   "source": [
    "charge_input=keras.Input(shape=(10,10,2,))\n",
    "\n",
    "conv1_layer = layers.Conv2D(64,kernel_size=3,padding='same',activation='relu')(charge_input)\n",
    "conv2_layer = layers.Conv2D(32,kernel_size=3,padding='same',activation='relu')(conv1_layer)\n",
    "conv3_layer = layers.Conv2D(16, kernel_size=3, padding='same',activation=\"relu\")(conv2_layer)\n",
    "Apool_layer = layers.AveragePooling2D(pool_size=(2, 2), strides=None, padding=\"valid\", data_format=None) (conv3_layer)\n",
    "\n",
    "flat_layer = layers.Flatten()(Apool_layer)\n",
    "zenith_input=keras.Input(shape=(1,))\n",
    "concat_layer = layers.Concatenate()([flat_layer,zenith_input])\n",
    "\n",
    "dense1_layer = layers.Dense(256,activation='relu')(concat_layer)\n",
    "dense2_layer = layers.Dense(256,activation='relu')(dense1_layer)\n",
    "dense3_layer = layers.Dense(256,activation=\"relu\")(dense2_layer)\n",
    "\n",
    "output = layers.Dense(1)(dense3_layer)\n",
    "\n",
    "model = models.Model(inputs=[charge_input,zenith_input],outputs=output,name=name)\n",
    "\n",
    "model.compile(loss='mean_squared_error', optimizer='adam', metrics=['mae','mse'])"
   ]
  },
  {
   "cell_type": "code",
   "execution_count": 7,
   "id": "7065dbdd",
   "metadata": {},
   "outputs": [
    {
     "name": "stdout",
     "output_type": "stream",
     "text": [
      "Model: \"MOpoolingAverage0\"\n",
      "__________________________________________________________________________________________________\n",
      "Layer (type)                    Output Shape         Param #     Connected to                     \n",
      "==================================================================================================\n",
      "input_1 (InputLayer)            [(None, 10, 10, 2)]  0                                            \n",
      "__________________________________________________________________________________________________\n",
      "conv2d (Conv2D)                 (None, 10, 10, 64)   1216        input_1[0][0]                    \n",
      "__________________________________________________________________________________________________\n",
      "conv2d_1 (Conv2D)               (None, 10, 10, 32)   18464       conv2d[0][0]                     \n",
      "__________________________________________________________________________________________________\n",
      "conv2d_2 (Conv2D)               (None, 10, 10, 16)   4624        conv2d_1[0][0]                   \n",
      "__________________________________________________________________________________________________\n",
      "average_pooling2d (AveragePooli (None, 5, 5, 16)     0           conv2d_2[0][0]                   \n",
      "__________________________________________________________________________________________________\n",
      "flatten (Flatten)               (None, 400)          0           average_pooling2d[0][0]          \n",
      "__________________________________________________________________________________________________\n",
      "input_2 (InputLayer)            [(None, 1)]          0                                            \n",
      "__________________________________________________________________________________________________\n",
      "concatenate (Concatenate)       (None, 401)          0           flatten[0][0]                    \n",
      "                                                                 input_2[0][0]                    \n",
      "__________________________________________________________________________________________________\n",
      "dense (Dense)                   (None, 256)          102912      concatenate[0][0]                \n",
      "__________________________________________________________________________________________________\n",
      "dense_1 (Dense)                 (None, 256)          65792       dense[0][0]                      \n",
      "__________________________________________________________________________________________________\n",
      "dense_2 (Dense)                 (None, 256)          65792       dense_1[0][0]                    \n",
      "__________________________________________________________________________________________________\n",
      "dense_3 (Dense)                 (None, 1)            257         dense_2[0][0]                    \n",
      "==================================================================================================\n",
      "Total params: 259,057\n",
      "Trainable params: 259,057\n",
      "Non-trainable params: 0\n",
      "__________________________________________________________________________________________________\n"
     ]
    }
   ],
   "source": [
    "model.summary()"
   ]
  },
  {
   "cell_type": "code",
   "execution_count": 8,
   "id": "4a2907a3",
   "metadata": {},
   "outputs": [
    {
     "data": {
      "text/plain": [
       "549773"
      ]
     },
     "execution_count": 8,
     "metadata": {},
     "output_type": "execute_result"
    }
   ],
   "source": [
    "len(np.sum(x,axis=(1,2,3)))"
   ]
  },
  {
   "cell_type": "code",
   "execution_count": 9,
   "id": "4510a9ff",
   "metadata": {},
   "outputs": [
    {
     "data": {
      "text/plain": [
       "549773"
      ]
     },
     "execution_count": 9,
     "metadata": {},
     "output_type": "execute_result"
    }
   ],
   "source": [
    "th, _ = y['small_dir'].transpose()\n",
    "len(th)"
   ]
  },
  {
   "cell_type": "code",
   "execution_count": 10,
   "id": "9edf62bb",
   "metadata": {},
   "outputs": [],
   "source": [
    "x_i = dataPrep(x, y, **prep)"
   ]
  },
  {
   "cell_type": "code",
   "execution_count": 11,
   "id": "574f972a",
   "metadata": {},
   "outputs": [],
   "source": [
    "energy = y['energy']\n",
    "comp = y['comp']\n",
    "theta, phi = y['dir'].transpose()\n",
    "nevents = len(energy)\n",
    "trainCut = (np.random.uniform(size=nevents) < 0.85)\n",
    "testCut = np.logical_not(trainCut)\n",
    "temp_y = energy"
   ]
  },
  {
   "cell_type": "code",
   "execution_count": 12,
   "id": "11201e5f",
   "metadata": {},
   "outputs": [
    {
     "data": {
      "text/plain": [
       "0"
      ]
     },
     "execution_count": 12,
     "metadata": {},
     "output_type": "execute_result"
    }
   ],
   "source": [
    "np.count_nonzero(x_i[1]==None)"
   ]
  },
  {
   "cell_type": "code",
   "execution_count": 4,
   "id": "02df98d8",
   "metadata": {},
   "outputs": [
    {
     "ename": "NameError",
     "evalue": "name 'model' is not defined",
     "output_type": "error",
     "traceback": [
      "\u001b[1;31m---------------------------------------------------------------------------\u001b[0m",
      "\u001b[1;31mNameError\u001b[0m                                 Traceback (most recent call last)",
      "\u001b[1;32m~\\AppData\\Local\\Temp/ipykernel_50180/4227638026.py\u001b[0m in \u001b[0;36m<module>\u001b[1;34m\u001b[0m\n\u001b[0;32m      2\u001b[0m \u001b[0mearly_stop\u001b[0m \u001b[1;33m=\u001b[0m \u001b[0mEarlyStopping\u001b[0m\u001b[1;33m(\u001b[0m\u001b[0mmonitor\u001b[0m\u001b[1;33m=\u001b[0m\u001b[1;34m\"val_loss\"\u001b[0m\u001b[1;33m,\u001b[0m\u001b[0mmin_delta\u001b[0m\u001b[1;33m=\u001b[0m\u001b[1;36m0\u001b[0m\u001b[1;33m,\u001b[0m\u001b[0mpatience\u001b[0m\u001b[1;33m=\u001b[0m\u001b[1;36m10\u001b[0m\u001b[1;33m,\u001b[0m\u001b[0mverbose\u001b[0m\u001b[1;33m=\u001b[0m\u001b[1;36m0\u001b[0m\u001b[1;33m,\u001b[0m\u001b[0mmode\u001b[0m\u001b[1;33m=\u001b[0m\u001b[1;34m\"auto\"\u001b[0m\u001b[1;33m,\u001b[0m\u001b[0mbaseline\u001b[0m\u001b[1;33m=\u001b[0m\u001b[1;32mNone\u001b[0m\u001b[1;33m,\u001b[0m\u001b[0mrestore_best_weights\u001b[0m\u001b[1;33m=\u001b[0m\u001b[1;32mFalse\u001b[0m\u001b[1;33m,\u001b[0m\u001b[1;33m)\u001b[0m\u001b[1;33m\u001b[0m\u001b[1;33m\u001b[0m\u001b[0m\n\u001b[0;32m      3\u001b[0m \u001b[0mcallbacks\u001b[0m \u001b[1;33m=\u001b[0m \u001b[1;33m[\u001b[0m\u001b[0mearly_stop\u001b[0m\u001b[1;33m,\u001b[0m \u001b[0mcsv_logger\u001b[0m\u001b[1;33m]\u001b[0m\u001b[1;33m\u001b[0m\u001b[1;33m\u001b[0m\u001b[0m\n\u001b[1;32m----> 4\u001b[1;33m history = model.fit(\n\u001b[0m\u001b[0;32m      5\u001b[0m     {\"input_1\":x_i[0],\"input_2\":x_i[1].reshape(-1,1)}, temp_y, epochs=numepochs,validation_split=0.15,callbacks=callbacks)\n",
      "\u001b[1;31mNameError\u001b[0m: name 'model' is not defined"
     ]
    }
   ],
   "source": [
    "csv_logger = CSVLogger('models/{}'.format(name))\n",
    "early_stop = EarlyStopping(monitor=\"val_loss\",min_delta=0,patience=10,verbose=0,mode=\"auto\",baseline=None,restore_best_weights=False,) \n",
    "callbacks = [early_stop, csv_logger]\n",
    "history = model.fit(\n",
    "    {\"input_1\":x_i[0],\"input_2\":x_i[1].reshape(-1,1)}, temp_y, epochs=numepochs,validation_split=0.15,callbacks=callbacks)"
   ]
  },
  {
   "cell_type": "code",
   "execution_count": null,
   "id": "b827960d",
   "metadata": {},
   "outputs": [],
   "source": [
    "np.save(\"MOpoolingAverage.npy\",prep)\n",
    "model.save('models/%s.h5' % name)\n",
    "f = open(\"results.txt\", \"a\")\n",
    "now = datetime.now()\n",
    "f.write(\"{}\\t{}\\tepochs:{}\\tloss:{},{}\\n\".format(\n",
    "    now.strftime(\"%m/%d/%Y %H:%M:%S\"),\n",
    "    name,\n",
    "    len(history.history['loss']),\n",
    "    history.history['loss'][len(history.history['loss'])-1],\n",
    "    history.history['val_loss'][len(history.history['loss'])-1]\n",
    "))\n",
    "f.close()"
   ]
  },
  {
   "cell_type": "code",
   "execution_count": null,
   "id": "bf56d863-d1cb-4a68-a389-ccb3715f3580",
   "metadata": {},
   "outputs": [],
   "source": []
  }
 ],
 "metadata": {
  "kernelspec": {
   "display_name": "Python 3 (ipykernel)",
   "language": "python",
   "name": "python3"
  },
  "language_info": {
   "codemirror_mode": {
    "name": "ipython",
    "version": 3
   },
   "file_extension": ".py",
   "mimetype": "text/x-python",
   "name": "python",
   "nbconvert_exporter": "python",
   "pygments_lexer": "ipython3",
   "version": "3.8.13"
  }
 },
 "nbformat": 4,
 "nbformat_minor": 5
}
