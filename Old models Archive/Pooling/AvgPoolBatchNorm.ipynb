{
 "cells": [
  {
   "cell_type": "code",
   "execution_count": 15,
   "id": "93e9560f-a706-4b59-8623-ec4d1d703a99",
   "metadata": {},
   "outputs": [],
   "source": [
    "import numpy as np\n",
    "import tensorflow as tf\n",
    "import os\n",
    "import matplotlib.pyplot as plt\n",
    "import csv \n",
    "from datetime import datetime\n",
    "\n",
    "from tensorflow import keras\n",
    "from keras import layers\n",
    "from keras import models\n",
    "from keras import callbacks\n",
    "\n",
    "from tensorflow.keras.layers import Dense, Conv2D, Flatten, Dropout \n",
    "from tensorflow.keras.callbacks import ModelCheckpoint, CSVLogger, EarlyStopping, History \n",
    "\n",
    "from data_tools import load_preprocessed, dataPrep, nameModel"
   ]
  },
  {
   "cell_type": "code",
   "execution_count": 16,
   "id": "73f1aeeb-c536-4b92-b648-40c0ed5d1379",
   "metadata": {},
   "outputs": [
    {
     "name": "stdout",
     "output_type": "stream",
     "text": [
      "Percentage of events with a NaN: 2.68\n"
     ]
    }
   ],
   "source": [
    "simPrefix = 'C:/Users/MOliv/Documents/PHY460/simFiles'\n",
    "x, y = load_preprocessed(simPrefix, 'train')"
   ]
  },
  {
   "cell_type": "code",
   "execution_count": 17,
   "id": "61e676d6-8d5d-446e-accc-e1f113b20b8a",
   "metadata": {},
   "outputs": [],
   "source": [
    "name = 'AvgPoolBatchNorm' \n",
    "i = 0\n",
    "while (os.path.exists('AvgPoolBatchNorm/{}.h5'.format(name+str(i)))):\n",
    "    i = i + 1 \n",
    "name = name+str(i) \n",
    "numepochs = 100\n",
    "prep = {'q':None, 't':False, 'normed':True, 'reco':'plane', 'cosz':False}"
   ]
  },
  {
   "cell_type": "code",
   "execution_count": 18,
   "id": "64974e9d-f94b-418f-b89f-1435118fdd9d",
   "metadata": {},
   "outputs": [],
   "source": [
    "charge_input=keras.Input(shape=(10,10,2,))\n",
    "\n",
    "conv1_layer = layers.Conv2D(64,kernel_size=3,padding='same',activation='relu')(charge_input)\n",
    "batch1_layer = layers.BatchNormalization(axis=-1,momentum=0.99,epsilon=0.001,center=True,scale=True,beta_initializer=\"zeros\",gamma_initializer=\"ones\",moving_mean_initializer=\"zeros\",moving_variance_initializer=\"ones\",beta_regularizer=None,gamma_regularizer=None,beta_constraint=None,gamma_constraint=None)(conv1_layer)\n",
    "conv2_layer = layers.Conv2D(32,kernel_size=3,padding='same',activation='relu')(batch1_layer)\n",
    "batch2_layer = layers.BatchNormalization(axis=-1,momentum=0.99,epsilon=0.001,center=True,scale=True,beta_initializer=\"zeros\",gamma_initializer=\"ones\",moving_mean_initializer=\"zeros\",moving_variance_initializer=\"ones\",beta_regularizer=None,gamma_regularizer=None,beta_constraint=None,gamma_constraint=None)(conv2_layer)\n",
    "conv3_layer = layers.Conv2D(16, kernel_size=3, padding='same',activation=\"relu\")(batch2_layer) \n",
    "Apool_layer = layers.AveragePooling2D(pool_size=(2, 2), strides=None, padding=\"valid\", data_format=None) (conv3_layer)\n",
    "\n",
    "flat_layer = layers.Flatten()(Apool_layer)\n",
    "zenith_input=keras.Input(shape=(1,))\n",
    "concat_layer = layers.Concatenate()([flat_layer,zenith_input])\n",
    "\n",
    "dense1_layer = layers.Dense(256,activation='relu')(concat_layer)\n",
    "dense2_layer = layers.Dense(256,activation='relu')(dense1_layer)\n",
    "dense3_layer = layers.Dense(256,activation=\"relu\")(dense2_layer)\n",
    "\n",
    "output = layers.Dense(1)(dense3_layer)\n",
    "\n",
    "model = models.Model(inputs=[charge_input,zenith_input],outputs=output,name=name)\n",
    "\n",
    "model.compile(loss='mean_squared_error', optimizer='adam', metrics=['mae','mse'])"
   ]
  },
  {
   "cell_type": "code",
   "execution_count": 19,
   "id": "da0f2e57-82ab-4bbc-8887-71c8d109d9a5",
   "metadata": {},
   "outputs": [
    {
     "name": "stdout",
     "output_type": "stream",
     "text": [
      "Model: \"MaxPoolBatchNorm0\"\n",
      "__________________________________________________________________________________________________\n",
      "Layer (type)                    Output Shape         Param #     Connected to                     \n",
      "==================================================================================================\n",
      "input_3 (InputLayer)            [(None, 10, 10, 2)]  0                                            \n",
      "__________________________________________________________________________________________________\n",
      "conv2d_3 (Conv2D)               (None, 10, 10, 64)   1216        input_3[0][0]                    \n",
      "__________________________________________________________________________________________________\n",
      "batch_normalization_2 (BatchNor (None, 10, 10, 64)   256         conv2d_3[0][0]                   \n",
      "__________________________________________________________________________________________________\n",
      "conv2d_4 (Conv2D)               (None, 10, 10, 32)   18464       batch_normalization_2[0][0]      \n",
      "__________________________________________________________________________________________________\n",
      "batch_normalization_3 (BatchNor (None, 10, 10, 32)   128         conv2d_4[0][0]                   \n",
      "__________________________________________________________________________________________________\n",
      "conv2d_5 (Conv2D)               (None, 10, 10, 16)   4624        batch_normalization_3[0][0]      \n",
      "__________________________________________________________________________________________________\n",
      "max_pooling2d_1 (MaxPooling2D)  (None, 5, 5, 16)     0           conv2d_5[0][0]                   \n",
      "__________________________________________________________________________________________________\n",
      "flatten_1 (Flatten)             (None, 400)          0           max_pooling2d_1[0][0]            \n",
      "__________________________________________________________________________________________________\n",
      "input_4 (InputLayer)            [(None, 1)]          0                                            \n",
      "__________________________________________________________________________________________________\n",
      "concatenate_1 (Concatenate)     (None, 401)          0           flatten_1[0][0]                  \n",
      "                                                                 input_4[0][0]                    \n",
      "__________________________________________________________________________________________________\n",
      "dense_4 (Dense)                 (None, 256)          102912      concatenate_1[0][0]              \n",
      "__________________________________________________________________________________________________\n",
      "dense_5 (Dense)                 (None, 256)          65792       dense_4[0][0]                    \n",
      "__________________________________________________________________________________________________\n",
      "dense_6 (Dense)                 (None, 256)          65792       dense_5[0][0]                    \n",
      "__________________________________________________________________________________________________\n",
      "dense_7 (Dense)                 (None, 1)            257         dense_6[0][0]                    \n",
      "==================================================================================================\n",
      "Total params: 259,441\n",
      "Trainable params: 259,249\n",
      "Non-trainable params: 192\n",
      "__________________________________________________________________________________________________\n"
     ]
    }
   ],
   "source": [
    "model.summary()"
   ]
  },
  {
   "cell_type": "code",
   "execution_count": 20,
   "id": "b5ded994-1159-4fa5-a3c9-52356e086e1c",
   "metadata": {},
   "outputs": [
    {
     "data": {
      "text/plain": [
       "549773"
      ]
     },
     "execution_count": 20,
     "metadata": {},
     "output_type": "execute_result"
    }
   ],
   "source": [
    "len(np.sum(x,axis=(1,2,3)))"
   ]
  },
  {
   "cell_type": "code",
   "execution_count": 21,
   "id": "2a2e8953-32ab-4932-b973-9a91c347d023",
   "metadata": {},
   "outputs": [
    {
     "data": {
      "text/plain": [
       "549773"
      ]
     },
     "execution_count": 21,
     "metadata": {},
     "output_type": "execute_result"
    }
   ],
   "source": [
    "th, _ = y['small_dir'].transpose()\n",
    "len(th)"
   ]
  },
  {
   "cell_type": "code",
   "execution_count": 22,
   "id": "b2d58b30-2a67-4f84-a02b-d9c516c6d31e",
   "metadata": {},
   "outputs": [],
   "source": [
    "x_i = dataPrep(x, y, **prep)"
   ]
  },
  {
   "cell_type": "code",
   "execution_count": 23,
   "id": "94caa272-6666-41c3-afef-2a6b23ab4daf",
   "metadata": {},
   "outputs": [],
   "source": [
    "energy = y['energy']\n",
    "comp = y['comp']\n",
    "theta, phi = y['dir'].transpose()\n",
    "nevents = len(energy)\n",
    "trainCut = (np.random.uniform(size=nevents) < 0.85)\n",
    "testCut = np.logical_not(trainCut)\n",
    "temp_y = energy"
   ]
  },
  {
   "cell_type": "code",
   "execution_count": 24,
   "id": "837e89a2-0cca-4f17-89ee-58be3036c4cf",
   "metadata": {},
   "outputs": [
    {
     "data": {
      "text/plain": [
       "0"
      ]
     },
     "execution_count": 24,
     "metadata": {},
     "output_type": "execute_result"
    }
   ],
   "source": [
    "np.count_nonzero(x_i[1]==None)"
   ]
  },
  {
   "cell_type": "code",
   "execution_count": null,
   "id": "4d9a9bc9-703f-45b6-9bde-7ec7344db237",
   "metadata": {},
   "outputs": [
    {
     "name": "stdout",
     "output_type": "stream",
     "text": [
      "Epoch 1/100\n",
      "14354/14354 [==============================] - 313s 22ms/step - loss: 0.0651 - mae: 0.1879 - mse: 0.0651 - val_loss: 0.0371 - val_mae: 0.1452 - val_mse: 0.0371 - ETA: 3s - loss: 0.0652 - mae: 0.1881 - ETA: 2s \n",
      "Epoch 2/100\n",
      "14354/14354 [==============================] - 266s 19ms/step - loss: 0.0391 - mae: 0.1514 - mse: 0.0391 - val_loss: 0.0318 - val_mae: 0.1393 - val_mse: 0.0318\n",
      "Epoch 3/100\n",
      "14354/14354 [==============================] - 247s 17ms/step - loss: 0.0349 - mae: 0.1422 - mse: 0.0349 - val_loss: 0.0269 - val_mae: 0.1228 - val_mse: 0.0269\n",
      "Epoch 4/100\n",
      "14354/14354 [==============================] - 260s 18ms/step - loss: 0.0299 - mae: 0.1299 - mse: 0.0299 - val_loss: 0.0243 - val_mae: 0.1183 - val_mse: 0.0243\n",
      "Epoch 5/100\n",
      " 1899/14354 [==>...........................] - ETA: 3:14 - loss: 0.0287 - mae: 0.1262 - mse: 0.0287- ETA: 3:14 - loss: 0.0286 - mae: 0.1262 - mse: 0.0"
     ]
    }
   ],
   "source": [
    "csv_logger = CSVLogger('models/{}'.format(name))\n",
    "early_stop = EarlyStopping(monitor=\"val_loss\",min_delta=0,patience=10,verbose=0,mode=\"auto\",baseline=None,restore_best_weights=False,) \n",
    "callbacks = [early_stop, csv_logger]\n",
    "history = model.fit(\n",
    "    {\"input_1\":x_i[0],\"input_2\":x_i[1].reshape(-1,1)}, temp_y, epochs=numepochs,validation_split=0.15,callbacks=callbacks)"
   ]
  },
  {
   "cell_type": "code",
   "execution_count": null,
   "id": "fde1b146-2ae5-43f4-baae-8439362c92c9",
   "metadata": {},
   "outputs": [],
   "source": [
    "np.save(\"AvgPoolBatchNorm.npy\",prep)\n",
    "#make a folder and make the file save to that folder \n",
    "model.save('models/%s.h5' % name)\n",
    "f = open(\"results.txt\", \"a\")\n",
    "now = datetime.now()\n",
    "f.write(\"{}\\t{}\\tepochs:{}\\tloss:{},{}\\n\".format(\n",
    "    now.strftime(\"%m/%d/%Y %H:%M:%S\"),\n",
    "    name,\n",
    "    len(history.history['loss']),\n",
    "    history.history['loss'][len(history.history['loss'])-1],\n",
    "    history.history['val_loss'][len(history.history['loss'])-1]\n",
    "))\n",
    "f.close()"
   ]
  },
  {
   "cell_type": "code",
   "execution_count": null,
   "id": "a60a3e97-62a2-4e11-b386-de6bb264da86",
   "metadata": {},
   "outputs": [],
   "source": []
  }
 ],
 "metadata": {
  "kernelspec": {
   "display_name": "Python 3 (ipykernel)",
   "language": "python",
   "name": "python3"
  },
  "language_info": {
   "codemirror_mode": {
    "name": "ipython",
    "version": 3
   },
   "file_extension": ".py",
   "mimetype": "text/x-python",
   "name": "python",
   "nbconvert_exporter": "python",
   "pygments_lexer": "ipython3",
   "version": "3.8.13"
  }
 },
 "nbformat": 4,
 "nbformat_minor": 5
}
