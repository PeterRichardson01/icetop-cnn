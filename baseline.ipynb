{
 "cells": [
  {
   "cell_type": "markdown",
   "metadata": {},
   "source": [
    "# Energy Reconstruction Using CNN - Both Charges and Cos(Zenith)"
   ]
  },
  {
   "cell_type": "code",
   "execution_count": null,
   "metadata": {},
   "outputs": [],
   "source": [
    "import numpy as np\n",
    "import os\n",
    "from csv import writer\n",
    "from data_tools import dataPrep, getRecoFilter, load_preprocessed\n",
    "from keras.callbacks import CSVLogger, EarlyStopping\n",
    "from keras.layers import Concatenate, Conv2D, Dense, Flatten, Input\n",
    "from keras.models import Model"
   ]
  },
  {
   "cell_type": "markdown",
   "metadata": {},
   "source": [
    "## Model Design"
   ]
  },
  {
   "cell_type": "code",
   "execution_count": null,
   "metadata": {},
   "outputs": [],
   "source": [
    "# Baseline data prep\n",
    "prep = {'clc':True, 'sta5':False, 'q':None, 't':None, 't_shift':True, 'normed':True, 'reco':'plane', 'cosz':False}\n",
    "\n",
    "# Set the number of epochs the model should run for \n",
    "numepochs = 100\n",
    "\n",
    "# Name for model\n",
    "name = '' + '_%se' % numepochs\n",
    "\n",
    "# File directory to folder that holds models\n",
    "modelPrefix = os.getcwd()+'/models'\n",
    "\n",
    "# Add identifying number to name\n",
    "i = 0\n",
    "# Saves the h5 file of the model in a folder named models \n",
    "while(os.path.exists('%s/%s.h5' % (modelPrefix, name+str(i)))): \n",
    "    i += 1\n",
    "name += str(i)\n",
    "print(name)\n",
    "\n",
    "# File directory to folder that holds simulation data \n",
    "simPrefix = os.getcwd()+'/simdata'\n",
    "\n",
    "# Sim data to reconstruct (dir produces theta & phi, make sure to transpose)\n",
    "sim = 'energy'"
   ]
  },
  {
   "cell_type": "code",
   "execution_count": null,
   "metadata": {},
   "outputs": [],
   "source": [
    "# Load simulation data from files for training\n",
    "x, y = load_preprocessed(simPrefix, 'train')\n",
    "\n",
    "# Prepare simulation data\n",
    "x_i, idx = dataPrep(x, y, **prep)"
   ]
  },
  {
   "cell_type": "code",
   "execution_count": null,
   "metadata": {},
   "outputs": [],
   "source": [
    "# Filter NaNs from reconstruction data\n",
    "if prep['reco'] != None:\n",
    "    NaNfilter = getRecoFilter(prep['reco'], y)\n",
    "\n",
    "    for i, _ in enumerate(x_i):\n",
    "        x_i[i] = x_i[i][NaNfilter]\n",
    "\n",
    "    for key in y.keys():\n",
    "        y[key] = y[key][NaNfilter]\n",
    "    \n",
    "    loss = (len(NaNfilter)-sum(NaNfilter)) / len(NaNfilter) * 100\n",
    "    print(\"Percentage of events with a NaN in reconstruction: %.02f\" % loss)"
   ]
  },
  {
   "cell_type": "code",
   "execution_count": null,
   "metadata": {},
   "outputs": [],
   "source": [
    "# Create model using functional API for multiple inputs\n",
    "\n",
    "# Charge is always included as a parameter in the model - highest correlation with energy of all inputs\n",
    "# Charge input layer \n",
    "charge_input = Input(shape=(10,10,idx), name='charge')\n",
    "# Starts off with three convolutional layers, each one has half the neurons of the previous\n",
    "q_conv1_layer = Conv2D(64, kernel_size=3, padding='same', activation='relu')(charge_input)\n",
    "q_conv2_layer = Conv2D(32, kernel_size=3, padding='same', activation='relu')(q_conv1_layer)\n",
    "q_conv3_layer = Conv2D(16, kernel_size=3, padding='same', activation=\"relu\")(q_conv2_layer)\n",
    "# Layer is Flattened before Concatenated\n",
    "q_flat_layer = Flatten()(q_conv3_layer)\n",
    "\n",
    "# Time has been found to provide information comparable to Zenith when given to more advanced CNNs\n",
    "if prep['t'] != False: # Whether time has been included as a parameter in the model\n",
    "    # Time input layer \n",
    "    time_input = Input(shape=(10,10,x_i[0].shape[-1]-idx), name='time')\n",
    "    # Starts off with three convolutional layers, each one has half the neurons of the previous\n",
    "    t_conv1_layer = Conv2D(64, kernel_size=3, padding='same', activation='relu')(time_input)\n",
    "    t_conv2_layer = Conv2D(32, kernel_size=3, padding='same', activation='relu')(t_conv1_layer)\n",
    "    t_conv3_layer = Conv2D(16, kernel_size=3, padding='same', activation=\"relu\")(t_conv2_layer)\n",
    "    # Layer is Flattened before Concatenated\n",
    "    t_flat_layer = Flatten()(t_conv3_layer)\n",
    "\n",
    "# Flat layers are Concatenated before being passed into Dense layers\n",
    "if prep['reco'] == None: # Whether Zenith has been included as a parameter in the model\n",
    "    if prep['t'] == False: # Whether Time has been included as a parameter in the model\n",
    "        raise Exception('Why are you training the model on charge alone? It is not worth it.')\n",
    "    else:\n",
    "        concat_layer = Concatenate()([q_flat_layer, t_flat_layer])\n",
    "else:\n",
    "    # Zenith input layer\n",
    "    zenith_input = Input(shape=(1), name='zenith')\n",
    "    if prep['t'] == False: # Whether Time has been included as a parameter in the model\n",
    "        concat_layer = Concatenate()([q_flat_layer, zenith_input])\n",
    "    else:\n",
    "        concat_layer = Concatenate()([q_flat_layer, t_flat_layer, zenith_input])\n",
    "    \n",
    "# The Concatenated layers run through three Dense layers\n",
    "dense1_layer = Dense(256, activation='relu')(concat_layer)\n",
    "dense2_layer = Dense(256, activation='relu')(dense1_layer)\n",
    "dense3_layer = Dense(256, activation=\"relu\")(dense2_layer)\n",
    "\n",
    "# This last Dense layer is the output of the model\n",
    "output = Dense(1)(dense3_layer)\n",
    "\n",
    "# Prepare model for compilation\n",
    "if prep['reco'] == None: # Whether Zenith has been included as a parameter in the model\n",
    "    model = Model(inputs=[charge_input, time_input], outputs=output, name=name)\n",
    "else:\n",
    "    if prep['t'] == False: # Whether Time has been included as a parameter in the model\n",
    "        model = Model(inputs=[charge_input, zenith_input], outputs=output, name=name)\n",
    "    else:\n",
    "        model = Model(inputs=[charge_input, time_input, zenith_input], outputs=output, name=name)\n",
    "    \n",
    "model.compile(loss='mean_squared_error', optimizer='adam', metrics=['mae','mse'])\n",
    "model.summary()"
   ]
  },
  {
   "cell_type": "code",
   "execution_count": null,
   "metadata": {},
   "outputs": [],
   "source": [
    "# Training\n",
    "\n",
    "csv_logger = CSVLogger('%s/%s' % (modelPrefix, name))\n",
    "# Earlystoping stops the model from training when it starts to overfit to the data\n",
    "# The main parameter we change is the patience \n",
    "early_stop = EarlyStopping(monitor='val_loss', min_delta=0, patience=10, verbose=0, mode='min', baseline=None, restore_best_weights=False) \n",
    "callbacks = [early_stop, csv_logger]\n",
    "\n",
    "if prep['reco'] == None: # Whether Zenith has been included as a parameter in the model\n",
    "    history = model.fit({'charge':x_i[...,:idx], 'time':x_i[...,idx:]}, y=y[sim], epochs=numepochs, validation_split=0.15, callbacks=callbacks)\n",
    "else:\n",
    "    history = model.fit({'charge':x_i[0][...,:idx], 'time':x_i[0][...,idx:], 'zenith':x_i[1].reshape(-1,1)}, y=y[sim], epochs=numepochs, validation_split=0.15, callbacks=callbacks)"
   ]
  },
  {
   "cell_type": "code",
   "execution_count": null,
   "metadata": {},
   "outputs": [],
   "source": [
    "# Save the model results as a .npy and .h5 file\n",
    "model.save('%s/%s.h5' % (modelPrefix, name))\n",
    "np.save('%s/%s.npy' % (modelPrefix, name), prep)\n",
    "\n",
    "# Open a .csv file and write the results of the last epoch\n",
    "num_epoch = len(history.history['loss'])\n",
    "val_loss = np.min(history.history['val_loss'])\n",
    "index = history.history['val_loss'].index(val_loss)\n",
    "loss = history.history['loss'][index]\n",
    "new_row = [name, num_epoch, loss, val_loss]\n",
    "with open('models/results.csv', 'a') as f:\n",
    "    csv_writer = writer(f)\n",
    "    csv_writer.writerow(new_row)\n",
    "f.close() "
   ]
  }
 ],
 "metadata": {
  "kernelspec": {
   "display_name": "Python 3.9.12 ('tf')",
   "language": "python",
   "name": "python3"
  },
  "language_info": {
   "codemirror_mode": {
    "name": "ipython",
    "version": 3
   },
   "file_extension": ".py",
   "mimetype": "text/x-python",
   "name": "python",
   "nbconvert_exporter": "python",
   "pygments_lexer": "ipython3",
   "version": "3.9.12"
  },
  "vscode": {
   "interpreter": {
    "hash": "31925b19b5fe5a511cc521412368d42da4de764f685469458a6425fd9ad7937b"
   }
  }
 },
 "nbformat": 4,
 "nbformat_minor": 2
}
