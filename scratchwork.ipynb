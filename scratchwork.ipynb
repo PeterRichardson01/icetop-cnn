{
 "cells": [
  {
   "cell_type": "code",
   "execution_count": 1,
   "id": "e1fa46c1-2e0e-4772-b649-3030298d6685",
   "metadata": {},
   "outputs": [],
   "source": [
    "import numpy as np\n",
    "import tensorflow as tf\n",
    "import os\n",
    "import matplotlib.pyplot as plt\n",
    "\n",
    "from datetime import datetime\n",
    "\n",
    "from tensorflow import keras\n",
    "from keras import layers\n",
    "from keras import models\n",
    "from keras import callbacks\n",
    "import pandas as pd\n",
    "\n",
    "#from tensorflow.keras.models import Sequential\n",
    "#from tensorflow.keras.layers import Dense, Conv2D, Flatten\n",
    "#from tensorflow.keras.callbacks import ModelCheckpoint\n",
    "\n",
    "from data_tools import load_preprocessed, dataPrep, nameModel\n",
    "\n",
    "simPrefix = \"D:\\icecube\\sim_data\""
   ]
  },
  {
   "cell_type": "code",
   "execution_count": 2,
   "id": "65ce91ba-6ac3-4c7e-8f46-d77b0a31bd7a",
   "metadata": {},
   "outputs": [
    {
     "name": "stdout",
     "output_type": "stream",
     "text": [
      "Percentage of events with a NaN: 2.68\n"
     ]
    }
   ],
   "source": [
    "\n",
    "x, y = load_preprocessed(simPrefix, 'train')\n",
    "\n"
   ]
  },
  {
   "cell_type": "code",
   "execution_count": 3,
   "id": "0f0f14ac-48ef-44bc-9e71-2ed674d01be9",
   "metadata": {},
   "outputs": [],
   "source": [
    "prep = { 't':None, 'normed':False}\n",
    "x_i = dataPrep(x, y, **prep)\n"
   ]
  },
  {
   "cell_type": "code",
   "execution_count": 8,
   "id": "9562ba25-c516-4119-941d-36a0c8904bcc",
   "metadata": {},
   "outputs": [],
   "source": [
    "del x_i"
   ]
  },
  {
   "cell_type": "code",
   "execution_count": null,
   "id": "2a64c108-d2df-40bc-9eaf-72b796fb0e33",
   "metadata": {},
   "outputs": [],
   "source": []
  },
  {
   "cell_type": "code",
   "execution_count": 7,
   "id": "0f6c53da-9b3d-4272-b490-e0a9855c1f63",
   "metadata": {},
   "outputs": [],
   "source": [
    "all_data = pd.DataFrame(x_i.flatten())"
   ]
  },
  {
   "cell_type": "code",
   "execution_count": null,
   "id": "1b2661e2-a35b-4581-adb9-9efeb49354a7",
   "metadata": {},
   "outputs": [],
   "source": []
  },
  {
   "cell_type": "code",
   "execution_count": 21,
   "id": "88db709d-5eef-4d46-9d8f-8f0dfbdadbbd",
   "metadata": {},
   "outputs": [
    {
     "name": "stdout",
     "output_type": "stream",
     "text": [
      "<class 'numpy.ndarray'>\n"
     ]
    }
   ],
   "source": [
    "print(type(x_i))\n",
    "time_data = pd.DataFrame(x_i.flatten())"
   ]
  },
  {
   "cell_type": "code",
   "execution_count": 8,
   "id": "a3255317-f53d-4bd9-8106-211036c5c897",
   "metadata": {},
   "outputs": [
    {
     "data": {
      "text/plain": [
       "array([[<AxesSubplot:title={'center':'0'}>]], dtype=object)"
      ]
     },
     "execution_count": 8,
     "metadata": {},
     "output_type": "execute_result"
    },
    {
     "data": {
      "image/png": "[encoded data removed]",
      "text/plain": [
       "<Figure size 432x288 with 1 Axes>"
      ]
     },
     "metadata": {
      "needs_background": "light"
     },
     "output_type": "display_data"
    }
   ],
   "source": [
    "all_data.hist(bins = 20, log = True )"
   ]
  },
  {
   "cell_type": "code",
   "execution_count": null,
   "id": "1d71961c-db2a-4465-8d32-36c65cfc6f3c",
   "metadata": {},
   "outputs": [],
   "source": [
    "time_data = pd.DataFrame(x_i.flatten())\n"
   ]
  },
  {
   "cell_type": "code",
   "execution_count": 23,
   "id": "f31419ad-0365-42db-9b25-64b264cb70d7",
   "metadata": {},
   "outputs": [],
   "source": [
    "del x_i_test"
   ]
  },
  {
   "cell_type": "code",
   "execution_count": 24,
   "id": "f52bf92c-5f97-4953-be59-e49e40208f47",
   "metadata": {},
   "outputs": [],
   "source": [
    "\n",
    "x_i_test = x_i.copy()"
   ]
  },
  {
   "cell_type": "code",
   "execution_count": 25,
   "id": "4bca7d9d-a040-475d-be8d-afd38d7820dd",
   "metadata": {},
   "outputs": [],
   "source": [
    "def shift(x, shift_to = 0):\n",
    "    \n",
    "    for idx1, event in enumerate(x): #this spits out 10 by 10\n",
    "        #find minumum of event\n",
    "        #print(event)\n",
    "        curMin = 10000000\n",
    "        for idx2, column in enumerate(event):\n",
    "            #print (row)\n",
    "            for idx3, row in enumerate(column):\n",
    "                #print (column[2:])\n",
    "                for idx4, point in enumerate(row[2:]):\n",
    "                    if (point == 0):\n",
    "                        x[idx1,idx2,idx3,idx4+2] = -1\n",
    "                    elif (point < curMin):\n",
    "                        curMin = point\n",
    "        for idx2, column in enumerate(event):\n",
    "            #print (row)\n",
    "            for idx3, row in enumerate(column):\n",
    "                #print (column[2:])\n",
    "                for idx4, point in enumerate(row[2:]):\n",
    "                    if (x[idx1,idx2,idx3,idx4+2] != -1):\n",
    "                        x[idx1,idx2,idx3,idx4+2] = x[idx1,idx2,idx3,idx4+2] - curMin#apply shift\n",
    " \n",
    "        break #for debugging"
   ]
  },
  {
   "cell_type": "code",
   "execution_count": null,
   "id": "73529538-2708-4989-a290-791052d3c56d",
   "metadata": {},
   "outputs": [],
   "source": []
  },
  {
   "cell_type": "code",
   "execution_count": 26,
   "id": "b0dbbf36-2807-47c4-ac8f-1c9c902dcbd6",
   "metadata": {},
   "outputs": [],
   "source": [
    "shift(x_i_test)"
   ]
  },
  {
   "cell_type": "code",
   "execution_count": null,
   "id": "416f232d-91cf-4645-b888-7c4975fd802e",
   "metadata": {},
   "outputs": [],
   "source": [
    "arr = [9 , 2, 5 ,4 ,1]"
   ]
  },
  {
   "cell_type": "code",
   "execution_count": null,
   "id": "8571ed92-18fe-45be-9762-89bb7042b593",
   "metadata": {},
   "outputs": [],
   "source": [
    "arr = np.array(arr)"
   ]
  },
  {
   "cell_type": "code",
   "execution_count": null,
   "id": "bd3b5da8-00ce-4331-9626-f0cd84542102",
   "metadata": {
    "tags": []
   },
   "outputs": [],
   "source": [
    "df = pd.DataFrame(arr)\n",
    "      "
   ]
  },
  {
   "cell_type": "code",
   "execution_count": 30,
   "id": "d445e038-2807-4307-b8ac-0740c4fd3e78",
   "metadata": {},
   "outputs": [
    {
     "name": "stdout",
     "output_type": "stream",
     "text": [
      "0    int32\n",
      "dtype: object\n"
     ]
    }
   ],
   "source": [
    "print(df.dtypes)"
   ]
  },
  {
   "cell_type": "code",
   "execution_count": 11,
   "id": "99e94d99-8790-4cf8-a57b-34959670da54",
   "metadata": {},
   "outputs": [
    {
     "name": "stdout",
     "output_type": "stream",
     "text": [
      "[[0.00000000e+00 0.00000000e+00 0.00000000e+00 0.00000000e+00]\n",
      " [0.00000000e+00 0.00000000e+00 0.00000000e+00 0.00000000e+00]\n",
      " [0.00000000e+00 0.00000000e+00 0.00000000e+00 0.00000000e+00]\n",
      " [0.00000000e+00 0.00000000e+00 0.00000000e+00 0.00000000e+00]\n",
      " [1.20098838e-01 2.58847747e-01 1.00130000e+04 9.99300000e+03]\n",
      " [0.00000000e+00 0.00000000e+00 0.00000000e+00 0.00000000e+00]\n",
      " [1.13681899e-01 1.53814641e-01 9.88000000e+03 9.88400000e+03]\n",
      " [0.00000000e+00 0.00000000e+00 0.00000000e+00 0.00000000e+00]\n",
      " [0.00000000e+00 0.00000000e+00 0.00000000e+00 0.00000000e+00]\n",
      " [0.00000000e+00 0.00000000e+00 0.00000000e+00 0.00000000e+00]]\n"
     ]
    }
   ],
   "source": [
    "print(x_i_test[0][4])"
   ]
  },
  {
   "cell_type": "code",
   "execution_count": 27,
   "id": "731429c6-7fd0-424a-bb45-001c67479e0d",
   "metadata": {},
   "outputs": [
    {
     "name": "stdout",
     "output_type": "stream",
     "text": [
      "[[ 0.00000000e+00  0.00000000e+00 -1.00000000e+00 -1.00000000e+00]\n",
      " [ 0.00000000e+00  0.00000000e+00 -1.00000000e+00 -1.00000000e+00]\n",
      " [ 0.00000000e+00  0.00000000e+00 -1.00000000e+00 -1.00000000e+00]\n",
      " [ 0.00000000e+00  0.00000000e+00 -1.00000000e+00 -1.00000000e+00]\n",
      " [ 1.20098838e-01  2.58847747e-01  1.54000000e+02  1.34000000e+02]\n",
      " [ 0.00000000e+00  0.00000000e+00 -1.00000000e+00 -1.00000000e+00]\n",
      " [ 1.13681899e-01  1.53814641e-01  2.10000000e+01  2.50000000e+01]\n",
      " [ 0.00000000e+00  0.00000000e+00 -1.00000000e+00 -1.00000000e+00]\n",
      " [ 0.00000000e+00  0.00000000e+00 -1.00000000e+00 -1.00000000e+00]\n",
      " [ 0.00000000e+00  0.00000000e+00 -1.00000000e+00 -1.00000000e+00]]\n"
     ]
    }
   ],
   "source": [
    "print(x_i_test[0][4])"
   ]
  },
  {
   "cell_type": "code",
   "execution_count": 8,
   "id": "c0d9b261-547c-4ccb-b607-5db78d0a29c6",
   "metadata": {},
   "outputs": [
    {
     "name": "stdout",
     "output_type": "stream",
     "text": [
      "[0. 0.]\n"
     ]
    }
   ],
   "source": [
    "print(x[0,0, 0, 2:]) #first event, first column"
   ]
  },
  {
   "cell_type": "code",
   "execution_count": null,
   "id": "0d339880-15f8-487d-b794-fc851c84236b",
   "metadata": {},
   "outputs": [],
   "source": []
  },
  {
   "cell_type": "code",
   "execution_count": null,
   "id": "0255a47a-a588-470f-9f24-6c91225e3aa9",
   "metadata": {},
   "outputs": [],
   "source": []
  }
 ],
 "metadata": {
  "kernelspec": {
   "display_name": "Python 3 (ipykernel)",
   "language": "python",
   "name": "python3"
  },
  "language_info": {
   "codemirror_mode": {
    "name": "ipython",
    "version": 3
   },
   "file_extension": ".py",
   "mimetype": "text/x-python",
   "name": "python",
   "nbconvert_exporter": "python",
   "pygments_lexer": "ipython3",
   "version": "3.9.7"
  }
 },
 "nbformat": 4,
 "nbformat_minor": 5
}
