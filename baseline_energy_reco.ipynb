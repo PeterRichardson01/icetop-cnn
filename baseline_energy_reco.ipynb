{
 "cells": [
  {
   "cell_type": "markdown",
   "metadata": {},
   "source": [
    "# Energy Reconstruction Using CNN - Both Charges and Cos(Zenith)"
   ]
  },
  {
   "cell_type": "code",
   "execution_count": 1,
   "metadata": {},
   "outputs": [],
   "source": [
    "import numpy as np\n",
    "import os\n",
    "import time\n",
    "from tensorflow import keras\n",
    "from keras import layers\n",
    "from keras import models\n",
    "from keras import callbacks\n",
    "from keras.callbacks import CSVLogger, EarlyStopping\n",
    "from data_tools import load_preprocessed, dataPrep, filterReco"
   ]
  },
  {
   "cell_type": "markdown",
   "metadata": {},
   "source": [
    "## Model Design"
   ]
  },
  {
   "cell_type": "code",
   "execution_count": 2,
   "metadata": {},
   "outputs": [],
   "source": [
    "# Set the number of epochs the model should run for \n",
    "numepochs = 3\n",
    "\n",
    "# Name for model\n",
    "name = 'test_filter'\n",
    "\n",
    "# Baseline data prep\n",
    "prep = {'q':None, 't':False, 'normed':True, 'reco':'plane', 'cosz':False}"
   ]
  },
  {
   "cell_type": "code",
   "execution_count": 3,
   "metadata": {},
   "outputs": [
    {
     "name": "stdout",
     "output_type": "stream",
     "text": [
      "test_filter1\n"
     ]
    }
   ],
   "source": [
    "# Add identifying number to name\n",
    "i = 0\n",
    "# Saves the h5 file of the model in a folder named models \n",
    "while(os.path.exists('models/{}.h5'.format(name+str(i)))): \n",
    "    i += 1\n",
    "name += str(i)\n",
    "print(name)"
   ]
  },
  {
   "cell_type": "code",
   "execution_count": 4,
   "metadata": {},
   "outputs": [],
   "source": [
    "# Create model using functional API for multiple inputs\n",
    "\n",
    "# Input layer \n",
    "charge_input = keras.Input(shape=(10,10,2,), name='charge')\n",
    "\n",
    "# Starts off with three convolutional layers, each one has half the neurons of the previous one \n",
    "conv1_layer = layers.Conv2D(64, kernel_size=3, padding='same', activation='relu')(charge_input)\n",
    "conv2_layer = layers.Conv2D(32, kernel_size=3, padding='same', activation='relu')(conv1_layer)\n",
    "conv3_layer = layers.Conv2D(16, kernel_size=3, padding='same', activation=\"relu\")(conv2_layer)\n",
    "\n",
    "# Layers are flattened before Zenith information is added \n",
    "flat_layer = layers.Flatten()(conv3_layer)\n",
    "zenith_input = keras.Input(shape=(1,), name='zenith')\n",
    "concat_layer = layers.Concatenate()([flat_layer, zenith_input])\n",
    "\n",
    "# The flattened layers and the Zenith layer run through 3 dense layers\n",
    "dense1_layer = layers.Dense(256, activation='relu')(concat_layer)\n",
    "dense2_layer = layers.Dense(256, activation='relu')(dense1_layer)\n",
    "dense3_layer = layers.Dense(256, activation=\"relu\")(dense2_layer)\n",
    "\n",
    "# This last dense layer is the output of the model\n",
    "output = layers.Dense(1)(dense3_layer)\n",
    "\n",
    "model = models.Model(inputs=[charge_input, zenith_input], outputs=output, name=name)\n",
    "model.compile(loss='mean_squared_error', optimizer='adam', metrics=['mae','mse'])"
   ]
  },
  {
   "cell_type": "code",
   "execution_count": 5,
   "metadata": {},
   "outputs": [
    {
     "name": "stdout",
     "output_type": "stream",
     "text": [
      "Model: \"test_filter1\"\n",
      "__________________________________________________________________________________________________\n",
      " Layer (type)                   Output Shape         Param #     Connected to                     \n",
      "==================================================================================================\n",
      " charge (InputLayer)            [(None, 10, 10, 2)]  0           []                               \n",
      "                                                                                                  \n",
      " conv2d (Conv2D)                (None, 10, 10, 64)   1216        ['charge[0][0]']                 \n",
      "                                                                                                  \n",
      " conv2d_1 (Conv2D)              (None, 10, 10, 32)   18464       ['conv2d[0][0]']                 \n",
      "                                                                                                  \n",
      " conv2d_2 (Conv2D)              (None, 10, 10, 16)   4624        ['conv2d_1[0][0]']               \n",
      "                                                                                                  \n",
      " flatten (Flatten)              (None, 1600)         0           ['conv2d_2[0][0]']               \n",
      "                                                                                                  \n",
      " zenith (InputLayer)            [(None, 1)]          0           []                               \n",
      "                                                                                                  \n",
      " concatenate (Concatenate)      (None, 1601)         0           ['flatten[0][0]',                \n",
      "                                                                  'zenith[0][0]']                 \n",
      "                                                                                                  \n",
      " dense (Dense)                  (None, 256)          410112      ['concatenate[0][0]']            \n",
      "                                                                                                  \n",
      " dense_1 (Dense)                (None, 256)          65792       ['dense[0][0]']                  \n",
      "                                                                                                  \n",
      " dense_2 (Dense)                (None, 256)          65792       ['dense_1[0][0]']                \n",
      "                                                                                                  \n",
      " dense_3 (Dense)                (None, 1)            257         ['dense_2[0][0]']                \n",
      "                                                                                                  \n",
      "==================================================================================================\n",
      "Total params: 566,257\n",
      "Trainable params: 566,257\n",
      "Non-trainable params: 0\n",
      "__________________________________________________________________________________________________\n"
     ]
    }
   ],
   "source": [
    "model.summary()"
   ]
  },
  {
   "cell_type": "code",
   "execution_count": 6,
   "metadata": {},
   "outputs": [
    {
     "name": "stdout",
     "output_type": "stream",
     "text": [
      "Percentage of events with a NaN: 2.68\n"
     ]
    }
   ],
   "source": [
    "# File directory to folder that holds simulation data \n",
    "simPrefix = os.getcwd()+'\\\\simdata'\n",
    "\n",
    "# Load simulation data from files for training\n",
    "x, y = load_preprocessed(simPrefix, 'train')"
   ]
  },
  {
   "cell_type": "code",
   "execution_count": 7,
   "metadata": {},
   "outputs": [],
   "source": [
    "# Prepare simulation data\n",
    "x_i = dataPrep(x, y, **prep)\n",
    "\n",
    "# Filter NaNs from reconstruction data\n",
    "filterReco(prep, y, x_i)"
   ]
  },
  {
   "cell_type": "code",
   "execution_count": 11,
   "metadata": {},
   "outputs": [
    {
     "name": "stdout",
     "output_type": "stream",
     "text": [
      "Epoch 1/3\n",
      "14354/14354 [==============================] - 214s 15ms/step - loss: 0.0866 - mae: 0.1851 - mse: 0.0866 - val_loss: 0.0314 - val_mae: 0.1387 - val_mse: 0.0314\n",
      "Epoch 2/3\n",
      "14354/14354 [==============================] - 211s 15ms/step - loss: 0.0317 - mae: 0.1335 - mse: 0.0317 - val_loss: 0.0245 - val_mae: 0.1164 - val_mse: 0.0245\n",
      "Epoch 3/3\n",
      "14354/14354 [==============================] - 182s 13ms/step - loss: 0.0284 - mae: 0.1254 - mse: 0.0284 - val_loss: 0.0223 - val_mae: 0.1085 - val_mse: 0.0223\n"
     ]
    }
   ],
   "source": [
    "# Training\n",
    "\n",
    "csv_logger = CSVLogger('models/{}'.format(name))\n",
    "# Earlystoping stops the model from training when it starts to overfit to the data\n",
    "# The main parameter we change is the patience \n",
    "early_stop = EarlyStopping(monitor=\"val_loss\", min_delta=0, patience=10, verbose=0, mode=\"auto\", baseline=None, restore_best_weights=False) \n",
    "callbacks = [early_stop, csv_logger]\n",
    "\n",
    "history = model.fit({\"charge\":x_i[0], \"zenith\":x_i[1].reshape(-1,1)}, y=y['energy'], epochs=numepochs, validation_split=0.15, callbacks=callbacks)"
   ]
  },
  {
   "cell_type": "code",
   "execution_count": 12,
   "metadata": {},
   "outputs": [],
   "source": [
    "# Save the model results as a .npy and .h5 file\n",
    "model.save('models/%s.h5' % name)\n",
    "np.save('models/%s.npy' % name, prep)\n",
    "\n",
    "# Open a .txt file and write the results of the last epoch\n",
    "f = open(\"results.txt\", \"a\")\n",
    "f.write(\"{}\\nName: {}\\nEpochs: {}\\nLoss (mse): {}\\nVal_loss (mse): {}\\n\\n\".format(\n",
    "    time.strftime(\"%m/%d/%Y %H:%M:%S\", time.localtime()),\n",
    "    name,\n",
    "    len(history.history['loss']),\n",
    "    history.history['loss'][len(history.history['loss'])-1],\n",
    "    history.history['val_loss'][len(history.history['loss'])-1]\n",
    "))\n",
    "f.close()"
   ]
  }
 ],
 "metadata": {
  "interpreter": {
   "hash": "7fa6917d79ba6874137c2cee546e23d674c97a8f1fc70b0dd72f9db1e0feed7b"
  },
  "kernelspec": {
   "display_name": "Python 3.8.5 64-bit ('anaconda3')",
   "language": "python",
   "name": "python3"
  },
  "language_info": {
   "codemirror_mode": {
    "name": "ipython",
    "version": 3
   },
   "file_extension": ".py",
   "mimetype": "text/x-python",
   "name": "python",
   "nbconvert_exporter": "python",
   "pygments_lexer": "ipython3",
   "version": "3.8.5"
  }
 },
 "nbformat": 4,
 "nbformat_minor": 2
}
