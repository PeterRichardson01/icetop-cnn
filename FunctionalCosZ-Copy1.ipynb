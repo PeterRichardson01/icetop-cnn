{
 "cells": [
  {
   "cell_type": "code",
   "execution_count": 11,
   "id": "bf807709",
   "metadata": {},
   "outputs": [],
   "source": [
    "import numpy as np\n",
    "import pandas as pd\n",
    "import h5py\n",
    "import tensorflow as tf\n",
    "import keras\n",
    "import os\n",
    "import matplotlib.pyplot as plt\n",
    "import csv\n",
    "import math\n",
    "\n",
    "from datetime import datetime\n",
    "\n",
    "#from tensorflow import keras\n",
    "from keras import layers\n",
    "from keras import models\n",
    "#from tensorflow.keras.models import Sequential\n",
    "#from tensorflow.keras.layers import Dense, Conv2D, Flatten\n",
    "#from tensorflow.keras.callbacks import ModelCheckpoint\n",
    "\n",
    "from old_data_tools import load_preprocessed, dataPrep, nameModel\n",
    "\n",
    "#simPrefix = os.getcwd()+'\\\\simdata'\n"
   ]
  },
  {
   "cell_type": "code",
   "execution_count": 8,
   "id": "782e9e8b",
   "metadata": {},
   "outputs": [],
   "source": [
    "simPrefix = '/Users/kmays/simFiles'"
   ]
  },
  {
   "cell_type": "code",
   "execution_count": 14,
   "id": "80b9f401",
   "metadata": {},
   "outputs": [],
   "source": [
    "x, y = load_preprocessed(simPrefix, 'train', nanCut=False)"
   ]
  },
  {
   "cell_type": "markdown",
   "id": "c03eeb64",
   "metadata": {},
   "source": [
    "DATA INPUT"
   ]
  },
  {
   "cell_type": "code",
   "execution_count": 5,
   "id": "10975c4c",
   "metadata": {},
   "outputs": [],
   "source": [
    "#print(x.shape)\n",
    "#print(y.keys())\n",
    "# each station has 2 tanks, each tank has 2 DOMs (high/log gain)\n",
    "# each tank measures charge and time\n",
    "# each station gives 2 charges and 2 times, 4 total pieces of data per station\n",
    "# stations arranged in 10x10 square lattice, 2 corners of square unused\n",
    "# charge measured in VEM, vertical equivalent muon\n",
    "\n",
    "# 'dir' is true direction, rest of dir are reconstruted by simulations\n",
    "# 'plane_dir' assumes shower is flat plane\n",
    "# 'laputop_dir' performs likelihood analysis\n",
    "# 'small_dir' compromises between plane and laputop\n",
    "#print(y)"
   ]
  },
  {
   "cell_type": "code",
   "execution_count": 6,
   "id": "677a40fe",
   "metadata": {},
   "outputs": [],
   "source": [
    "# 85/15 split for training/validation\n",
    "#change cosz=false & reco=plane\n",
    "energy = y['energy']\n",
    "comp = y['comp']\n",
    "theta, phi = y['small_dir'].transpose()\n",
    "nevents = len(energy)\n",
    "trainCut = (np.random.uniform(size=nevents) < 0.85)\n",
    "testCut = np.logical_not(trainCut)"
   ]
  },
  {
   "cell_type": "markdown",
   "id": "b1e36d2f",
   "metadata": {},
   "source": [
    "Model Training"
   ]
  },
  {
   "cell_type": "markdown",
   "id": "ac41e9ee",
   "metadata": {},
   "source": [
    "Alpha Model\n",
    "    Input: no charge merge, no time layers included, normalized data, combined with cosine of zenith angle\n",
    "    Layers: Two convolutional layers for charge, then combined with zenith\n",
    "    Output: Energy"
   ]
  },
  {
   "cell_type": "code",
   "execution_count": 7,
   "id": "462c5363",
   "metadata": {},
   "outputs": [],
   "source": [
    "# Name for model\n",
    "\n",
    "numepochs = 6\n",
    "# Data preparation: no merging of charge (q), no time layers included (t=False), data normalized from 0-1\n",
    "prep = {'q':None, 't':False, 'normed':True, 'reco':'small', 'cosz':False}"
   ]
  },
  {
   "cell_type": "code",
   "execution_count": 8,
   "id": "7ddf4677",
   "metadata": {},
   "outputs": [],
   "source": [
    "# Establish arrays to be trained on\n",
    "x_i = dataPrep(x, y, **prep)\n",
    "temp_y = energy\n",
    "#print(prep)"
   ]
  },
  {
   "cell_type": "code",
   "execution_count": 9,
   "id": "0cfafeda",
   "metadata": {},
   "outputs": [
    {
     "data": {
      "text/plain": [
       "array([0.08067318, 0.07357016, 0.11979118, ..., 0.30931591, 0.29842941,\n",
       "       0.30189343])"
      ]
     },
     "execution_count": 9,
     "metadata": {},
     "output_type": "execute_result"
    }
   ],
   "source": [
    "x_i[1]"
   ]
  },
  {
   "cell_type": "code",
   "execution_count": 10,
   "id": "0e1fc940",
   "metadata": {},
   "outputs": [
    {
     "name": "stdout",
     "output_type": "stream",
     "text": [
      "functionalcosZ5\n"
     ]
    }
   ],
   "source": [
    "#naming system\n",
    "\n",
    "#check if the file exists, if not, make it, otherwise, delete and go back 1\n",
    "#cycle through existing files and stop at one that doesnt already exist and make that the key\n",
    "key = 'functionalcosZ'\n",
    "i = 0\n",
    "#key=key+str(i)\n",
    "#exists('model/model_{}.h5'.format(key+str(i)))\n",
    "#print(os.path.isfile('models/{}.h5'.format(key+str(i))))\n",
    "#fix this\n",
    "\n",
    "while(os.path.isfile('models/{}.h5'.format(key+str(i)))):\n",
    "    i = i + 1\n",
    "key=key+str(i)\n",
    "print(key)"
   ]
  },
  {
   "cell_type": "code",
   "execution_count": 11,
   "id": "6946f810",
   "metadata": {},
   "outputs": [],
   "source": [
    "# Create model using functional API for multiple inputs\n",
    "charge_input=keras.Input(shape=(10,10,2,),name=\"charge\")\n",
    "conv1_layer = layers.Conv2D(4,kernel_size=3,activation='relu')(charge_input)\n",
    "drop1_layer=layers.Dropout(0.8)(conv1_layer)\n",
    "conv2_layer = layers.Conv2D(2,kernel_size=3,activation='relu')(drop1_layer)\n",
    "drop2_layer=layers.Dropout(0.5)(conv2_layer)\n",
    "conv3_layer = layers.Conv2D(8,kernel_size=3,activation='relu')(drop2_layer)\n",
    "flat_layer = layers.Flatten()(drop1_layer)\n",
    "\n",
    "zenith_input=keras.Input(shape=(1,),name=\"zenith\")\n",
    "\n",
    "concat_layer = layers.concatenate([flat_layer,zenith_input])\n",
    "#concat2_layer=flat_layer*zenith_input\n",
    "#output = layers.Dense(1)(concat_layer)\n",
    "\n",
    "#dense1_layer = layers.Dense(1)(concat_layer)\n",
    "#dense2_layer = layers.Dense(1)(dense1_layer)\n",
    "output = layers.Dense(1)(concat_layer)\n",
    "\n",
    "model = models.Model(inputs=[charge_input,zenith_input],outputs=output,name=key)\n",
    "\n",
    "model.compile(loss='mean_squared_error', optimizer='adam', metrics=['mae','mse'])\n",
    "\n",
    "## Old model used for reference\n",
    "#model = Sequential(name=nameModel(prep, 'test'))  # Automatic naming for flexible assessment later\n",
    "## Add model layers\n",
    "#model.add(Conv2D(64, kernel_size=3, activation='relu', input_shape=(10,10,2)))\n",
    "#model.add(Conv2D(32, kernel_size=3, activation='relu'))\n",
    "#model.add(Flatten())\n",
    "#model.add(Dense(1)) # No activation function for last layer of regression model\n",
    "\n",
    "## Compile model\n",
    "#model.compile(loss='mean_squared_error', optimizer='adam', metrics=['mae','mse'])"
   ]
  },
  {
   "cell_type": "code",
   "execution_count": 12,
   "id": "ade6556b",
   "metadata": {},
   "outputs": [
    {
     "data": {
      "text/plain": [
       "0"
      ]
     },
     "execution_count": 12,
     "metadata": {},
     "output_type": "execute_result"
    }
   ],
   "source": [
    "np.count_nonzero(x_i[1]==None)"
   ]
  },
  {
   "cell_type": "code",
   "execution_count": 13,
   "id": "436e129c",
   "metadata": {},
   "outputs": [
    {
     "name": "stdout",
     "output_type": "stream",
     "text": [
      "Model: \"functionalcosZ5\"\n",
      "__________________________________________________________________________________________________\n",
      "Layer (type)                    Output Shape         Param #     Connected to                     \n",
      "==================================================================================================\n",
      "charge (InputLayer)             [(None, 10, 10, 2)]  0                                            \n",
      "__________________________________________________________________________________________________\n",
      "conv2d (Conv2D)                 (None, 8, 8, 4)      76          charge[0][0]                     \n",
      "__________________________________________________________________________________________________\n",
      "dropout (Dropout)               (None, 8, 8, 4)      0           conv2d[0][0]                     \n",
      "__________________________________________________________________________________________________\n",
      "flatten (Flatten)               (None, 256)          0           dropout[0][0]                    \n",
      "__________________________________________________________________________________________________\n",
      "zenith (InputLayer)             [(None, 1)]          0                                            \n",
      "__________________________________________________________________________________________________\n",
      "concatenate (Concatenate)       (None, 257)          0           flatten[0][0]                    \n",
      "                                                                 zenith[0][0]                     \n",
      "__________________________________________________________________________________________________\n",
      "dense (Dense)                   (None, 1)            258         concatenate[0][0]                \n",
      "==================================================================================================\n",
      "Total params: 334\n",
      "Trainable params: 334\n",
      "Non-trainable params: 0\n",
      "__________________________________________________________________________________________________\n"
     ]
    }
   ],
   "source": [
    "model.summary()"
   ]
  },
  {
   "cell_type": "code",
   "execution_count": 14,
   "id": "7e4b8c1d",
   "metadata": {},
   "outputs": [],
   "source": [
    "#keras.utils.plot_model(model,\"model.png\")"
   ]
  },
  {
   "cell_type": "code",
   "execution_count": 15,
   "id": "ea045261",
   "metadata": {},
   "outputs": [
    {
     "data": {
      "text/plain": [
       "array([0.08067318, 0.07357016, 0.11979118, ..., 0.30931591, 0.29842941,\n",
       "       0.30189343])"
      ]
     },
     "execution_count": 15,
     "metadata": {},
     "output_type": "execute_result"
    }
   ],
   "source": [
    "x_i[1]"
   ]
  },
  {
   "cell_type": "code",
   "execution_count": 16,
   "id": "b8140d2a",
   "metadata": {
    "scrolled": true
   },
   "outputs": [
    {
     "name": "stdout",
     "output_type": "stream",
     "text": [
      "Epoch 1/6\n",
      "14354/14354 [==============================] - 43s 3ms/step - loss: 1.1972 - mae: 0.8126 - mse: 1.1972 - val_loss: 0.4009 - val_mae: 0.5357 - val_mse: 0.4009\n",
      "Epoch 2/6\n",
      "14354/14354 [==============================] - 44s 3ms/step - loss: 0.4730 - mae: 0.5746 - mse: 0.4730 - val_loss: 0.3832 - val_mae: 0.5269 - val_mse: 0.3832\n",
      "Epoch 3/6\n",
      "14354/14354 [==============================] - 39s 3ms/step - loss: 0.4370 - mae: 0.5568 - mse: 0.4370 - val_loss: 0.3904 - val_mae: 0.5301 - val_mse: 0.3904\n",
      "Epoch 4/6\n",
      "14354/14354 [==============================] - 42s 3ms/step - loss: 0.4350 - mae: 0.5560 - mse: 0.4350 - val_loss: 0.3893 - val_mae: 0.5297 - val_mse: 0.3893\n",
      "Epoch 5/6\n",
      "14354/14354 [==============================] - 43s 3ms/step - loss: 0.4350 - mae: 0.5560 - mse: 0.4350 - val_loss: 0.3865 - val_mae: 0.5286 - val_mse: 0.3865\n",
      "Epoch 6/6\n",
      "14354/14354 [==============================] - 43s 3ms/step - loss: 0.4350 - mae: 0.5560 - mse: 0.4350 - val_loss: 0.3877 - val_mae: 0.5290 - val_mse: 0.3877\n"
     ]
    }
   ],
   "source": [
    "#Train\n",
    "#saves loss in loss file under key name\n",
    "csv_logger = keras.callbacks.CSVLogger('loss/{}'.format(key))\n",
    "#early_stop = k.callbacks.EarlyStopping()\n",
    "callbacks =  [csv_logger]\n",
    "\n",
    "history = model.fit(\n",
    "    {\"charge\":x_i[0],\"zenith\":x_i[1].reshape(-1,1)}, temp_y, epochs=numepochs,validation_split=0.15,callbacks=callbacks)"
   ]
  },
  {
   "cell_type": "code",
   "execution_count": 17,
   "id": "945dad9f",
   "metadata": {},
   "outputs": [],
   "source": [
    "#save model and prep information (def new files)\n",
    "model.save('models/%s.h5' % key)\n",
    "#model=models.load_model('model_%s.h5' % key)\n",
    "#model.summary()\n",
    "\n",
    "info=open('prep/%s.txt' % key, \"w\")\n",
    "if os.stat('prep/%s.txt' % key).st_size == 0:\n",
    "    info.write(\"q:{}, t:{}, normed:{}, reco:{}, cosz:{} \\n\".format(prep['q'], prep['t'], prep['normed'], prep['reco'], prep['cosz']))\n",
    "info.close()\n",
    "\n",
    "#print(keras.models.load_model('models/{}.h5'.format(key)).get_config()==model.get_config()) #should be true\n",
    "#print(model.get_config())\n",
    "\n",
    "#saves history information \n",
    "f = open(\"results.txt\", \"a\")\n",
    "now = datetime.now()\n",
    "f.write(\"{}\\t{}\\tepochs:{}\\tloss:{},{}\\n\".format(\n",
    "    now.strftime(\"%m/%d/%Y %H:%M:%S\"),\n",
    "    key,\n",
    "    numepochs,\n",
    "    history.history['loss'][numepochs-1],\n",
    "    history.history['val_loss'][numepochs-1]\n",
    "))\n",
    "f.close()\n",
    "\n",
    "#this how how to read the prep dictionary\n",
    "#info=open('prep_%s.h5' % key, \"r\")\n",
    "#print(info.read())\n",
    "#info.read()\n",
    "#info.close()"
   ]
  },
  {
   "cell_type": "markdown",
   "id": "f00e2dca",
   "metadata": {},
   "source": [
    "MODEL COMPARISON"
   ]
  },
  {
   "cell_type": "code",
   "execution_count": 33,
   "id": "1c376116",
   "metadata": {},
   "outputs": [
    {
     "name": "stdout",
     "output_type": "stream",
     "text": [
      "1\n",
      "2\n",
      "3\n",
      "4\n",
      "5\n"
     ]
    },
    {
     "data": {
      "text/html": [
       "<div>\n",
       "<style scoped>\n",
       "    .dataframe tbody tr th:only-of-type {\n",
       "        vertical-align: middle;\n",
       "    }\n",
       "\n",
       "    .dataframe tbody tr th {\n",
       "        vertical-align: top;\n",
       "    }\n",
       "\n",
       "    .dataframe thead th {\n",
       "        text-align: right;\n",
       "    }\n",
       "</style>\n",
       "<table border=\"1\" class=\"dataframe\">\n",
       "  <thead>\n",
       "    <tr style=\"text-align: right;\">\n",
       "      <th></th>\n",
       "      <th>epoch</th>\n",
       "      <th>loss</th>\n",
       "      <th>mae</th>\n",
       "      <th>mse</th>\n",
       "      <th>val_loss</th>\n",
       "      <th>val_mae</th>\n",
       "      <th>val_mse</th>\n",
       "      <th>Overfits</th>\n",
       "    </tr>\n",
       "  </thead>\n",
       "  <tbody>\n",
       "    <tr>\n",
       "      <th>0</th>\n",
       "      <td>0</td>\n",
       "      <td>0.496864</td>\n",
       "      <td>0.574958</td>\n",
       "      <td>0.496864</td>\n",
       "      <td>0.391251</td>\n",
       "      <td>0.530421</td>\n",
       "      <td>0.391251</td>\n",
       "      <td>0</td>\n",
       "    </tr>\n",
       "    <tr>\n",
       "      <th>1</th>\n",
       "      <td>1</td>\n",
       "      <td>0.444086</td>\n",
       "      <td>0.560462</td>\n",
       "      <td>0.444086</td>\n",
       "      <td>0.388192</td>\n",
       "      <td>0.529159</td>\n",
       "      <td>0.388192</td>\n",
       "      <td>0</td>\n",
       "    </tr>\n",
       "    <tr>\n",
       "      <th>2</th>\n",
       "      <td>2</td>\n",
       "      <td>0.441152</td>\n",
       "      <td>0.559020</td>\n",
       "      <td>0.441152</td>\n",
       "      <td>0.379669</td>\n",
       "      <td>0.525364</td>\n",
       "      <td>0.379669</td>\n",
       "      <td>0</td>\n",
       "    </tr>\n",
       "    <tr>\n",
       "      <th>3</th>\n",
       "      <td>3</td>\n",
       "      <td>0.440389</td>\n",
       "      <td>0.558665</td>\n",
       "      <td>0.440389</td>\n",
       "      <td>0.379580</td>\n",
       "      <td>0.524606</td>\n",
       "      <td>0.379580</td>\n",
       "      <td>0</td>\n",
       "    </tr>\n",
       "    <tr>\n",
       "      <th>4</th>\n",
       "      <td>4</td>\n",
       "      <td>0.438933</td>\n",
       "      <td>0.557943</td>\n",
       "      <td>0.438933</td>\n",
       "      <td>0.419087</td>\n",
       "      <td>0.544954</td>\n",
       "      <td>0.419087</td>\n",
       "      <td>1</td>\n",
       "    </tr>\n",
       "    <tr>\n",
       "      <th>5</th>\n",
       "      <td>5</td>\n",
       "      <td>0.438544</td>\n",
       "      <td>0.557782</td>\n",
       "      <td>0.438544</td>\n",
       "      <td>0.384367</td>\n",
       "      <td>0.527659</td>\n",
       "      <td>0.384367</td>\n",
       "      <td>0</td>\n",
       "    </tr>\n",
       "  </tbody>\n",
       "</table>\n",
       "</div>"
      ],
      "text/plain": [
       "   epoch      loss       mae       mse  val_loss   val_mae   val_mse  Overfits\n",
       "0      0  0.496864  0.574958  0.496864  0.391251  0.530421  0.391251         0\n",
       "1      1  0.444086  0.560462  0.444086  0.388192  0.529159  0.388192         0\n",
       "2      2  0.441152  0.559020  0.441152  0.379669  0.525364  0.379669         0\n",
       "3      3  0.440389  0.558665  0.440389  0.379580  0.524606  0.379580         0\n",
       "4      4  0.438933  0.557943  0.438933  0.419087  0.544954  0.419087         1\n",
       "5      5  0.438544  0.557782  0.438544  0.384367  0.527659  0.384367         0"
      ]
     },
     "execution_count": 33,
     "metadata": {},
     "output_type": "execute_result"
    }
   ],
   "source": [
    "#dataframes that will compare the results\n",
    "#start with 5 variations (represented as depth/dimensions)\n",
    "#add column for overfitting, true/false (determined if value loss increases down the column)\n",
    "#models (dimensions) that include true under overfitting will be cut out\n",
    "#save model and prep as note attached to the csv to see which did best\n",
    "#look up other ways to interpret loss information\n",
    "\n",
    "#call the dataframe\n",
    "v1= pd.read_csv('loss/functionalcosZ3.', delimiter = \",\")\n",
    "overfit=pd.Series(0)\n",
    "count=0\n",
    "v1['Overfits']=0\n",
    "while(count<5):\n",
    "    v1.iloc[count+1,7]=float(v1.iloc[count+1,4]>v1.iloc[count,4])\n",
    "    count+=1\n",
    "    print(count)\n",
    "\n",
    "v1"
   ]
  },
  {
   "cell_type": "code",
   "execution_count": null,
   "id": "21df5e2e",
   "metadata": {},
   "outputs": [],
   "source": [
    "#try batch regularization, drop out and relu activation at once\n",
    "#google other versions\n",
    "#how can i make comparing multiple dimensions simple?\n",
    "#\n",
    "#if(i!=0):\n",
    "#    if(\"q:{}, t:{}, normed:{}, reco:{}, cosz:{}\".format(prep['q'], prep['t'], prep['normed'], prep['reco'], prep['cosz']) in info.read()\n",
    "#& keras.models.load_model('models/{}.h5'.format(key)).get_config()==model.get_config()):\n",
    "#        print('theyre the same')\n",
    "#        #os.remove(the file)\n",
    "#    else:\n",
    "#        print('theyre not')\n",
    "#    print('positive')\n",
    "#else:\n",
    "#    print('no')"
   ]
  }
 ],
 "metadata": {
  "kernelspec": {
   "display_name": "Python 3",
   "language": "python",
   "name": "python3"
  },
  "language_info": {
   "codemirror_mode": {
    "name": "ipython",
    "version": 3
   },
   "file_extension": ".py",
   "mimetype": "text/x-python",
   "name": "python",
   "nbconvert_exporter": "python",
   "pygments_lexer": "ipython3",
   "version": "3.8.8"
  }
 },
 "nbformat": 4,
 "nbformat_minor": 5
}
