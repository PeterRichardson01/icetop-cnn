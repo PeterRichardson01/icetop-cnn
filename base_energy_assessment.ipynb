{
 "cells": [
  {
   "cell_type": "markdown",
   "metadata": {},
   "source": [
    "# Energy Reconstruction Using CNN"
   ]
  },
  {
   "cell_type": "markdown",
   "metadata": {},
   "source": [
    "## General Notes:\n",
    "This notebook is designed for regression convolutional neural networks used to reconstruct the energy of a cosmic ray primary. It assumes all input is normalized as a best-practice."
   ]
  },
  {
   "cell_type": "code",
   "execution_count": null,
   "metadata": {},
   "outputs": [],
   "source": [
    "%matplotlib inline\n",
    "from glob import glob\n",
    "from data_tools import data_prep, get_cut, get_reco_nan_filter, load_preprocessed\n",
    "from keras.models import load_model\n",
    "import matplotlib.pyplot as plt\n",
    "import numpy as np\n",
    "import os"
   ]
  },
  {
   "cell_type": "markdown",
   "metadata": {},
   "source": [
    "## Model Selection"
   ]
  },
  {
   "cell_type": "code",
   "execution_count": null,
   "metadata": {},
   "outputs": [],
   "source": [
    "# Edit this file path to the models folder containing .h5 and .npy files for each model.\n",
    "model_prefix = os.getcwd()+'/models'\n",
    "\n",
    "# Edit this file path to the folder containing the simulation data.\n",
    "sim_prefix = os.getcwd()+'/simdata'\n",
    "\n",
    "# Option to change font size for all labels within this notebook\n",
    "label_params = {'fontsize':16}"
   ]
  },
  {
   "cell_type": "code",
   "execution_count": null,
   "metadata": {},
   "outputs": [],
   "source": [
    "# List of available models\n",
    "\n",
    "model_list = sorted(glob('%s/*.h5' % model_prefix))\n",
    "model_list = [os.path.basename(m)[:-3] for m in model_list]\n",
    "\n",
    "param_list = sorted(glob('%s/*.npy' % model_prefix))\n",
    "param_list = [os.path.basename(p)[:-4] for p in param_list]\n",
    "\n",
    "print('Available models:', sorted(set(model_list).intersection(param_list)))\n",
    "print('\\nModels without parameter files:', sorted(set(model_list).difference(param_list)))"
   ]
  },
  {
   "cell_type": "code",
   "execution_count": null,
   "metadata": {},
   "outputs": [],
   "source": [
    "# Keys you want to study\n",
    "key_list = ['', '']\n",
    "descriptions = ['', '']\n",
    "\n",
    "# Automatic intake of parameters from parameter files\n",
    "labels, p = {}, {}\n",
    "for key, description in zip(key_list, descriptions):\n",
    "    labels[key] = description\n",
    "    d = np.load('%s/%s.npy' % (model_prefix, key), allow_pickle=True)\n",
    "    p[key] = d.item()\n",
    "    print(key, ':', p[key])"
   ]
  },
  {
   "cell_type": "markdown",
   "metadata": {},
   "source": [
    "## Assessment Data"
   ]
  },
  {
   "cell_type": "code",
   "execution_count": null,
   "metadata": {},
   "outputs": [],
   "source": [
    "# Load data, x in eight layers (q1h, q1s, q2h, q2s, t1h, t1s, t2h, t2s) and y as a dictionary with event-level parameters\n",
    "x, y = load_preprocessed(sim_prefix, 'assessment')"
   ]
  },
  {
   "cell_type": "markdown",
   "metadata": {},
   "source": [
    "## Notes\n",
    "\n",
    "This notebook is designed to compare multiple models for beginners in machine learning"
   ]
  },
  {
   "cell_type": "markdown",
   "metadata": {},
   "source": [
    "## Model Preperation"
   ]
  },
  {
   "cell_type": "code",
   "execution_count": null,
   "metadata": {},
   "outputs": [],
   "source": [
    "models = {}\n",
    "recoE = {}\n",
    "\n",
    "# Calculate reconstructed energies. This can take a bit, but should print out info on each key as it works\n",
    "for key in key_list:\n",
    "\n",
    "    # Comment these two lines if you want to rerun your energy reconstructions each time\n",
    "    if key in models.keys():\n",
    "        continue\n",
    "    \n",
    "    print('Working on %s...' % key)\n",
    "    print(p[key])\n",
    "    # Note: very sensitive to tensorflow/keras version.\n",
    "    models[key] = load_model('%s/%s.h5' % (model_prefix, key)) # Edit file path\n",
    "    \n",
    "    # Configure input data\n",
    "    x_i, idx = data_prep(x.copy(), y.copy(), **p[key])\n",
    "\n",
    "    if p[key]['reco'] != None:\n",
    "        nan_cut = get_reco_nan_filter(p[key]['reco'], y)\n",
    "        for i, _ in enumerate(x_i):\n",
    "            x_i[i] = x_i[i][(nan_cut, nan_cut[y['passed_STA5']])[p[key]['sta5']]]\n",
    "\n",
    "    # Models should only output energy\n",
    "    if p[key]['reco'] == None: # Charge and Time\n",
    "        recoE[key] = models[key].predict([x_i[...,:idx], x_i[...,idx:]]).flatten()\n",
    "    else:\n",
    "        if p[key]['t'] == False: # Charge and Zenith\n",
    "            recoE[key] = models[key].predict([x_i[0], x_i[1]]).flatten()\n",
    "        else: # Charge and Time and Zenith\n",
    "            recoE[key] = models[key].predict([x_i[0][...,:idx], x_i[0][...,idx:], x_i[1]]).flatten()\n",
    "    print()"
   ]
  },
  {
   "cell_type": "markdown",
   "metadata": {},
   "source": [
    "## Plotting Parameters"
   ]
  },
  {
   "cell_type": "code",
   "execution_count": null,
   "metadata": {},
   "outputs": [],
   "source": [
    "ebins = np.linspace(5, 8, 181)\n",
    "evalues = (ebins[:-1] + ebins[1:]) / 2\n",
    "\n",
    "cut_names = ['No Cut', 'Quality Cut']\n",
    "ncols, nrows = len(cut_names), len(key_list)"
   ]
  },
  {
   "cell_type": "markdown",
   "metadata": {},
   "source": [
    "## Energy Reconstruction Plots"
   ]
  },
  {
   "cell_type": "markdown",
   "metadata": {},
   "source": [
    "### Total Energy Resolution"
   ]
  },
  {
   "cell_type": "code",
   "execution_count": null,
   "metadata": {},
   "outputs": [],
   "source": [
    "# Plot logged energy resolution\n",
    "\n",
    "hist_args = {'range':(-2,2), 'bins':121, 'density':True, 'histtype':'step', 'log':True, 'linewidth':4}\n",
    "fig, axs = plt.subplots(figsize=(13*ncols, 8), ncols=ncols)\n",
    "\n",
    "for i, cut_name in enumerate(cut_names):\n",
    "    ax = axs[i]\n",
    "    for j, key in enumerate(key_list):\n",
    "        cut, energy = get_cut(cut_name, y, p, recoE, key)\n",
    "        ax.hist((recoE[key][cut] - energy), label=labels[key], **hist_args)\n",
    "    ax.set_title('Energy Resolution (%s)' % cut_name, **label_params)\n",
    "    ax.set_xlabel(r'$\\log_{10}(E_{\\mathrm{reco}}/\\mathrm{GeV}) - \\log_{10}(E_{\\mathrm{true}}/\\mathrm{GeV})$', **label_params)\n",
    "    ax.set_ylabel('Counts', **label_params)\n",
    "    ax.legend()\n",
    "    ax.axvline()"
   ]
  },
  {
   "cell_type": "code",
   "execution_count": null,
   "metadata": {},
   "outputs": [],
   "source": [
    "# Plot zoomed and unlogged energy resolution\n",
    "\n",
    "hist_args = {'range':(-1,1), 'bins':121, 'density':True, 'histtype':'step', 'linewidth':4}\n",
    "fig, axs = plt.subplots(figsize=(13*ncols, 8), ncols=ncols)\n",
    "\n",
    "for i, cut_name in enumerate(cut_names):\n",
    "    ax = axs[i]\n",
    "    for j, key in enumerate(key_list):\n",
    "        cut, energy = get_cut(cut_name, y, p, recoE, key)\n",
    "        ax.hist((recoE[key][cut] - energy), label=labels[key], **hist_args)\n",
    "    ax.set_title('Energy Resolution (%s)' % cut_name, **label_params)\n",
    "    ax.set_xlabel(r'$\\log_{10}(E_{\\mathrm{reco}}/\\mathrm{GeV}) - \\log_{10}(E_{\\mathrm{true}}/\\mathrm{GeV})$', **label_params)\n",
    "    ax.set_ylabel('Counts', **label_params)\n",
    "    ax.legend()\n",
    "    ax.axvline()"
   ]
  },
  {
   "cell_type": "code",
   "execution_count": null,
   "metadata": {},
   "outputs": [],
   "source": [
    "# Summary parameters\n",
    "\n",
    "for key in key_list:\n",
    "    for i, cut_name in enumerate(cut_names):\n",
    "        cut, energy = get_cut(cut_name, y, p, recoE, key)\n",
    "        median, err_min, err_max = np.percentile(recoE[key][cut] - energy, (50,16,84))\n",
    "        print('Energy resolution for %s (%s): %.03f +%.03f %.03f' % (key, cut_name, median, err_max, err_min))\n",
    "    print()"
   ]
  },
  {
   "cell_type": "markdown",
   "metadata": {},
   "source": [
    "### Two-Dimensional Visualization"
   ]
  },
  {
   "cell_type": "code",
   "execution_count": null,
   "metadata": {},
   "outputs": [],
   "source": [
    "# Plot two-dimensional visualization\n",
    "\n",
    "np.seterr(divide = 'ignore')\n",
    "\n",
    "fig, axs = plt.subplots(figsize=(13*ncols, 10*nrows), ncols=ncols, nrows=nrows, \n",
    "                        sharex=True, sharey=True)\n",
    "\n",
    "for i, key in enumerate(key_list):\n",
    "    for j, cut_name in enumerate(cut_names):\n",
    "        \n",
    "        ax = axs[i, j] if len(key_list) > 1 else axs[j]\n",
    "        cut, energy = get_cut(cut_name, y, p, recoE, key)\n",
    "        \n",
    "        h, xedges, yedges = np.histogram2d(recoE[key][cut], energy, bins=(ebins, ebins), normed=False, weights=None)\n",
    "        # Normalize\n",
    "        ntot = np.sum(h, axis=0).astype(float)\n",
    "        ntot[ntot==0] = 1.\n",
    "        h /= ntot\n",
    "        \n",
    "        # Create contours\n",
    "        contour_values = [0.025, 0.16, 0.84, 0.975]\n",
    "        contour_list = [[] for _ in contour_values]\n",
    "        for c, col in enumerate(h.transpose()):\n",
    "            ccol = col.cumsum()\n",
    "            for l, val in zip(contour_list, contour_values):\n",
    "                try: l += [np.where(ccol > val)[0][0]]\n",
    "                except IndexError:\n",
    "                    l += [0]\n",
    "        for l in contour_list:\n",
    "            l.insert(0, l[0])\n",
    "            if i >= len(contour_list) / 2:\n",
    "                l = [j+1 for j in l]     \n",
    "        ax.plot(evalues, evalues, 'k', ls=':')\n",
    "        for l in contour_list:\n",
    "            ax.step(ebins, ebins[l], color='red', linestyle='--')\n",
    "        \n",
    "        # Plot on a log scale\n",
    "        extent = [yedges[0], yedges[-1], xedges[0], xedges[-1]]\n",
    "        im = ax.imshow(np.log10(h), extent=extent, origin='lower', interpolation='none', vmin=-3.5, vmax=-0.5)\n",
    "        ax.set_title('%s (%s)' % (key, cut_name), **label_params)\n",
    "        ax.set_xlabel(r'$\\log_{10}(E_{\\mathrm{true}}/\\mathrm{GeV})$', **label_params)\n",
    "        ax.set_ylabel(r'$\\log_{10}(E_{\\mathrm{reco}}/\\mathrm{GeV})$', **label_params)\n",
    "        fig.colorbar(im, ax=ax)"
   ]
  },
  {
   "cell_type": "markdown",
   "metadata": {},
   "source": [
    "### Energy Resolution as a Function of Zenith"
   ]
  },
  {
   "cell_type": "code",
   "execution_count": null,
   "metadata": {},
   "outputs": [],
   "source": [
    "# Plot energy resolution as a function of zenith\n",
    "\n",
    "coszbins = np.linspace(0.4,1,20)\n",
    "coszvalues = (coszbins[1:]+coszbins[:-1])/2\n",
    "kwargs = {'fmt':'.',\n",
    "          'markersize':16,\n",
    "          'elinewidth':2,\n",
    "          'capsize':10,\n",
    "          'capthick':2}\n",
    "fig, axs = plt.subplots(figsize=(13*ncols, 10), ncols=ncols)\n",
    "\n",
    "for i, cut_name in enumerate(cut_names):\n",
    "    ax = axs[i]\n",
    "    for k, key in enumerate(key_list):\n",
    "        \n",
    "        theta = y['laputop_dir'].transpose()[0]\n",
    "        theta = (theta[get_reco_nan_filter(p[key]['reco'], y)], theta[get_reco_nan_filter(p[key]['reco'], y) * y['passed_STA5']])[p[key]['sta5']]\n",
    "        theta = np.pi - theta.astype('float')  # Define 0 degrees as overhead\n",
    "\n",
    "        array_info = np.zeros(shape=(len(coszvalues), 3))\n",
    "        cut, energy = get_cut(cut_name, y, p, recoE, key)\n",
    "        binned_zenith = np.digitize(np.cos(theta)[cut], coszbins) - 1\n",
    "        for j in range(len(coszvalues)):\n",
    "            coszcut = (binned_zenith == j)\n",
    "            temp_events = recoE[key][cut][coszcut]\n",
    "            if len(temp_events) != 0:\n",
    "                array_info[j] = np.percentile(temp_events - energy[coszcut], (50, 16, 84))\n",
    "\n",
    "        median, err_min, err_max = np.transpose(array_info)\n",
    "        ax.errorbar(coszvalues, median, yerr=(median-err_min, err_max-median), label=key, **kwargs)\n",
    "    \n",
    "    ax.axhline(color='k', ls='--')\n",
    "    ax.set_title('Energy Resolution v. Zenith (%s)' % cut_name, **label_params)\n",
    "    ax.set_xlabel(r'$\\cos(\\theta)$', **label_params)\n",
    "    ax.set_ylabel(r'$\\log_{10}(E_{\\mathrm{reco}}/\\mathrm{GeV}) - \\log_{10}(E_{\\mathrm{true}}/\\mathrm{GeV})$', **label_params)\n",
    "    ax.set_ylim(-0.5, 0.5)\n",
    "    ax.legend()\n",
    "    \n",
    "plt.show()"
   ]
  }
 ],
 "metadata": {
  "kernelspec": {
   "display_name": "Python 3.8.5 ('base')",
   "language": "python",
   "name": "python3"
  },
  "language_info": {
   "codemirror_mode": {
    "name": "ipython",
    "version": 3
   },
   "file_extension": ".py",
   "mimetype": "text/x-python",
   "name": "python",
   "nbconvert_exporter": "python",
   "pygments_lexer": "ipython3",
   "version": "3.8.5"
  },
  "vscode": {
   "interpreter": {
    "hash": "7fa6917d79ba6874137c2cee546e23d674c97a8f1fc70b0dd72f9db1e0feed7b"
   }
  }
 },
 "nbformat": 4,
 "nbformat_minor": 2
}
