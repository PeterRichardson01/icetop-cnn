{
 "cells": [
  {
   "cell_type": "markdown",
   "metadata": {},
   "source": [
    "# Energy Reconstruction Using CNN"
   ]
  },
  {
   "cell_type": "markdown",
   "metadata": {},
   "source": [
    "## General Notes:\n",
    "This notebook is designed for regression convolutional neural networks used to reconstruct the energy of a cosmic ray primary. It assumes all input is normalized as a best-practice."
   ]
  },
  {
   "cell_type": "code",
   "execution_count": null,
   "metadata": {},
   "outputs": [],
   "source": [
    "%matplotlib inline\n",
    "import matplotlib.pyplot as plt\n",
    "import numpy as np\n",
    "import os\n",
    "from glob import glob\n",
    "from data_tools import dataPrep, getCut, getRecoFilter, load_preprocessed\n",
    "from keras.models import load_model"
   ]
  },
  {
   "cell_type": "markdown",
   "metadata": {},
   "source": [
    "## Model Selection"
   ]
  },
  {
   "cell_type": "code",
   "execution_count": null,
   "metadata": {},
   "outputs": [],
   "source": [
    "# Edit this file path to the models folder containing .h5 and .npy files for each model.\n",
    "modelPrefix = os.getcwd()+'/models'\n",
    "\n",
    "# Edit this file path to the folder containing the simulation data.\n",
    "simPrefix = os.getcwd()+'/simdata'\n",
    "\n",
    "# Option to change font size for all labels within this notebook\n",
    "labelParams = {'fontsize':16}"
   ]
  },
  {
   "cell_type": "code",
   "execution_count": null,
   "metadata": {},
   "outputs": [],
   "source": [
    "# List of available models\n",
    "\n",
    "modelList = sorted(glob('%s/*.h5' % modelPrefix))\n",
    "modelList = [os.path.basename(m)[:-3] for m in modelList]\n",
    "\n",
    "paramList = sorted(glob('%s/*.npy' % modelPrefix))\n",
    "paramList = [os.path.basename(p)[:-4] for p in paramList]\n",
    "\n",
    "print('Available models:', sorted(set(modelList).intersection(paramList)))\n",
    "print('\\nModels without parameter files:', sorted(set(modelList).difference(paramList)))"
   ]
  },
  {
   "cell_type": "code",
   "execution_count": null,
   "metadata": {},
   "outputs": [],
   "source": [
    "# Keys you want to study\n",
    "keyList = []\n",
    "descriptions = []\n",
    "\n",
    "# Automatic intake of parameters from parameter files\n",
    "labels, p = {}, {}\n",
    "for key, description in zip(keyList, descriptions):\n",
    "    labels[key] = description\n",
    "    d = np.load('%s/%s.npy' % (modelPrefix, key), allow_pickle=True)\n",
    "    p[key] = d.item()\n",
    "    print(key, ':', p[key])"
   ]
  },
  {
   "cell_type": "markdown",
   "metadata": {},
   "source": [
    "## Assessment Data"
   ]
  },
  {
   "cell_type": "code",
   "execution_count": null,
   "metadata": {},
   "outputs": [],
   "source": [
    "# Load data, x in eight layers (q1h, q1s, q2h, q2s, t1h, t1s, t2h, t2s) and y as a dictionary with event-level parameters\n",
    "x, y = load_preprocessed(simPrefix, 'assessment')"
   ]
  },
  {
   "cell_type": "markdown",
   "metadata": {},
   "source": [
    "## Notes\n",
    "\n",
    "This notebook is designed to compare multiple models for beginners in machine learning"
   ]
  },
  {
   "cell_type": "markdown",
   "metadata": {},
   "source": [
    "## Model Preperation"
   ]
  },
  {
   "cell_type": "code",
   "execution_count": null,
   "metadata": {},
   "outputs": [],
   "source": [
    "models = {}\n",
    "recoE = {}\n",
    "\n",
    "# Calculate reconstructed energies. This can take a bit, but should print out info on each key as it works\n",
    "for key in keyList:\n",
    "\n",
    "    # Comment these two lines if you want to rerun your energy reconstructions each time\n",
    "    if key in models.keys():\n",
    "        continue\n",
    "    \n",
    "    print('Working on %s...' % key)\n",
    "    print(p[key])\n",
    "    # Note: very sensitive to tensorflow/keras version.\n",
    "    models[key] = load_model('%s/%s.h5' % (modelPrefix, key)) # Edit file path\n",
    "    \n",
    "    # Configure input data\n",
    "    x_i, idx = dataPrep(x.copy(), y.copy(), **p[key])\n",
    "\n",
    "    if p[key]['reco'] != None:\n",
    "        nanCut = getRecoFilter(p[key]['reco'], y)\n",
    "        for i, _ in enumerate(x_i):\n",
    "            x_i[i] = x_i[i][nanCut[y['passed_STA5']] if p[key]['sta5'] else nanCut]\n",
    "\n",
    "    # Models should only output energy\n",
    "    if p[key]['reco'] == None: # Charge and Time\n",
    "        recoE[key] = models[key].predict([x_i[...,:idx], x_i[...,idx:]]).flatten()\n",
    "    else:\n",
    "        if p[key]['t'] == False: # Charge and Zenith\n",
    "            recoE[key] = models[key].predict([x_i[0], x_i[1]]).flatten()\n",
    "        else: # Charge and Time and Zenith\n",
    "            recoE[key] = models[key].predict([x_i[0][...,:idx], x_i[0][...,idx:], x_i[1]]).flatten()\n",
    "    print()"
   ]
  },
  {
   "cell_type": "markdown",
   "metadata": {},
   "source": [
    "## Plotting Parameters"
   ]
  },
  {
   "cell_type": "code",
   "execution_count": null,
   "metadata": {},
   "outputs": [],
   "source": [
    "ebins = np.linspace(5, 8, 181)\n",
    "evalues = (ebins[:-1] + ebins[1:]) / 2\n",
    "\n",
    "cutNames = ['No Cut', 'Quality Cut']\n",
    "ncols, nrows = len(cutNames), len(keyList)"
   ]
  },
  {
   "cell_type": "markdown",
   "metadata": {},
   "source": [
    "## Energy Reconstruction Plots"
   ]
  },
  {
   "cell_type": "markdown",
   "metadata": {},
   "source": [
    "### Total Energy Resolution"
   ]
  },
  {
   "cell_type": "code",
   "execution_count": null,
   "metadata": {},
   "outputs": [],
   "source": [
    "# Plot logged energy resolution\n",
    "\n",
    "histArgs = {'range':(-2,2), 'bins':121, 'density':True, 'histtype':'step', 'log':True, 'linewidth':4}\n",
    "fig, axs = plt.subplots(figsize=(13*ncols, 8), ncols=ncols)\n",
    "\n",
    "for i, cutName in enumerate(cutNames):\n",
    "    ax = axs[i]\n",
    "    for j, key in enumerate(keyList):\n",
    "        cut, energy = getCut(cutName, y, p, recoE, key)\n",
    "        ax.hist((recoE[key][cut] - energy), label=labels[key], **histArgs)\n",
    "    ax.set_title('Energy Resolution (%s)' % cutName, **labelParams)\n",
    "    ax.set_xlabel(r'$\\log_{10}(E_{\\mathrm{reco}}/\\mathrm{GeV}) - \\log_{10}(E_{\\mathrm{true}}/\\mathrm{GeV})$', **labelParams)\n",
    "    ax.set_ylabel('Counts', **labelParams)\n",
    "    ax.legend()\n",
    "    ax.axvline()"
   ]
  },
  {
   "cell_type": "code",
   "execution_count": null,
   "metadata": {},
   "outputs": [],
   "source": [
    "# Plot zoomed and unlogged energy resolution\n",
    "\n",
    "histArgs = {'range':(-1,1), 'bins':121, 'density':True, 'histtype':'step', 'linewidth':4}\n",
    "fig, axs = plt.subplots(figsize=(13*ncols, 8), ncols=ncols)\n",
    "\n",
    "for i, cutName in enumerate(cutNames):\n",
    "    ax = axs[i]\n",
    "    for j, key in enumerate(keyList):\n",
    "        cut, energy = getCut(cutName, y, p, recoE, key)\n",
    "        ax.hist((recoE[key][cut] - energy), label=labels[key], **histArgs)\n",
    "    ax.set_title('Energy Resolution (%s)' % cutName, **labelParams)\n",
    "    ax.set_xlabel(r'$\\log_{10}(E_{\\mathrm{reco}}/\\mathrm{GeV}) - \\log_{10}(E_{\\mathrm{true}}/\\mathrm{GeV})$', **labelParams)\n",
    "    ax.set_ylabel('Counts', **labelParams)\n",
    "    ax.legend()\n",
    "    ax.axvline()"
   ]
  },
  {
   "cell_type": "code",
   "execution_count": null,
   "metadata": {},
   "outputs": [],
   "source": [
    "# Summary parameters\n",
    "\n",
    "for key in keyList:\n",
    "    for i, cutName in enumerate(cutNames):\n",
    "        cut, energy = getCut(cutName, y, p, recoE, key)\n",
    "        median, err_min, err_max = np.percentile(recoE[key][cut] - energy, (50,16,84))\n",
    "        print('Energy resolution for %s (%s): %.03f +%.03f %.03f' % (key, cutName, median, err_max, err_min))\n",
    "    print()"
   ]
  },
  {
   "cell_type": "markdown",
   "metadata": {},
   "source": [
    "### Two-Dimensional Visualization"
   ]
  },
  {
   "cell_type": "code",
   "execution_count": null,
   "metadata": {},
   "outputs": [],
   "source": [
    "# Plot two-dimensional visualization\n",
    "\n",
    "np.seterr(divide = 'ignore')\n",
    "\n",
    "fig, axs = plt.subplots(figsize=(13*ncols, 10*nrows), ncols=ncols, nrows=nrows, \n",
    "                        sharex=True, sharey=True)\n",
    "\n",
    "for i, key in enumerate(keyList):\n",
    "    for j, cutName in enumerate(cutNames):\n",
    "        \n",
    "        ax = axs[i, j] if len(keyList) > 1 else axs[j]\n",
    "        cut, energy = getCut(cutName, y, p, recoE, key)\n",
    "        \n",
    "        h, xedges, yedges = np.histogram2d(recoE[key][cut], energy, bins=(ebins, ebins), normed=False, weights=None)\n",
    "        # Normalize\n",
    "        ntot = np.sum(h, axis=0).astype(float)\n",
    "        ntot[ntot==0] = 1.\n",
    "        h /= ntot\n",
    "        \n",
    "        # Create contours\n",
    "        contourValues = [0.025, 0.16, 0.84, 0.975]\n",
    "        contourList = [[] for _ in contourValues]\n",
    "        for c, col in enumerate(h.transpose()):\n",
    "            ccol = col.cumsum()\n",
    "            for l, val in zip(contourList, contourValues):\n",
    "                try: l += [np.where(ccol > val)[0][0]]\n",
    "                except IndexError:\n",
    "                    l += [0]\n",
    "        for l in contourList:\n",
    "            l.insert(0, l[0])\n",
    "            if i >= len(contourList) / 2:\n",
    "                l = [j+1 for j in l]     \n",
    "        ax.plot(evalues, evalues, 'k', ls=':')\n",
    "        for l in contourList:\n",
    "            ax.step(ebins, ebins[l], color='red', linestyle='--')\n",
    "        \n",
    "        # Plot on a log scale\n",
    "        extent = [yedges[0], yedges[-1], xedges[0], xedges[-1]]\n",
    "        im = ax.imshow(np.log10(h), extent=extent, origin='lower', interpolation='none', vmin=-3.5, vmax=-0.5)\n",
    "        ax.set_title('%s (%s)' % (key, cutName), **labelParams)\n",
    "        ax.set_xlabel(r'$\\log_{10}(E_{\\mathrm{true}}/\\mathrm{GeV})$', **labelParams)\n",
    "        ax.set_ylabel(r'$\\log_{10}(E_{\\mathrm{reco}}/\\mathrm{GeV})$', **labelParams)\n",
    "        fig.colorbar(im, ax=ax)"
   ]
  },
  {
   "cell_type": "markdown",
   "metadata": {},
   "source": [
    "### Energy Resolution as a Function of Zenith"
   ]
  },
  {
   "cell_type": "code",
   "execution_count": null,
   "metadata": {},
   "outputs": [],
   "source": [
    "# Plot energy resolution as a function of zenith\n",
    "\n",
    "coszbins = np.linspace(0.4,1,20)\n",
    "coszvalues = (coszbins[1:]+coszbins[:-1])/2\n",
    "kwargs = {'fmt':'.',\n",
    "          'markersize':16,\n",
    "          'elinewidth':2,\n",
    "          'capsize':10,\n",
    "          'capthick':2}\n",
    "fig, axs = plt.subplots(figsize=(13*ncols, 10), ncols=ncols)\n",
    "\n",
    "for i, cutName in enumerate(cutNames):\n",
    "    ax = axs[i]\n",
    "    for k, key in enumerate(keyList):\n",
    "        \n",
    "        theta = y['laputop_dir'].transpose()[0]\n",
    "        theta = theta[getRecoFilter(p[key]['reco'], y) * y['passed_STA5']] if p[key]['sta5'] else theta[getRecoFilter(p[key]['reco'], y)]\n",
    "        theta = np.pi - theta.astype('float')  # Define 0 degrees as overhead\n",
    "\n",
    "        array_info = np.zeros(shape=(len(coszvalues), 3))\n",
    "        cut, energy = getCut(cutName, y, p, recoE, key)\n",
    "        binned_zenith = np.digitize(np.cos(theta)[cut], coszbins) - 1\n",
    "        for j in range(len(coszvalues)):\n",
    "            coszcut = (binned_zenith == j)\n",
    "            temp_events = recoE[key][cut][coszcut]\n",
    "            if len(temp_events) != 0:\n",
    "                array_info[j] = np.percentile(temp_events - energy[coszcut], (50, 16, 84))\n",
    "\n",
    "        median, err_min, err_max = np.transpose(array_info)\n",
    "        ax.errorbar(coszvalues, median, yerr=(median-err_min, err_max-median), label=key, **kwargs)\n",
    "    \n",
    "    ax.axhline(color='k', ls='--')\n",
    "    ax.set_title('Energy Resolution v. Zenith (%s)' % cutName, **labelParams)\n",
    "    ax.set_xlabel(r'$\\cos(\\theta)$', **labelParams)\n",
    "    ax.set_ylabel(r'$\\log_{10}(E_{\\mathrm{reco}}/\\mathrm{GeV}) - \\log_{10}(E_{\\mathrm{true}}/\\mathrm{GeV})$', **labelParams)\n",
    "    ax.set_ylim(-0.5, 0.5)\n",
    "    ax.legend()\n",
    "    \n",
    "plt.show()"
   ]
  }
 ],
 "metadata": {
  "kernelspec": {
   "display_name": "Python 3.9.12 ('tf')",
   "language": "python",
   "name": "python3"
  },
  "language_info": {
   "codemirror_mode": {
    "name": "ipython",
    "version": 3
   },
   "file_extension": ".py",
   "mimetype": "text/x-python",
   "name": "python",
   "nbconvert_exporter": "python",
   "pygments_lexer": "ipython3",
   "version": "3.9.12"
  },
  "vscode": {
   "interpreter": {
    "hash": "31925b19b5fe5a511cc521412368d42da4de764f685469458a6425fd9ad7937b"
   }
  }
 },
 "nbformat": 4,
 "nbformat_minor": 2
}
