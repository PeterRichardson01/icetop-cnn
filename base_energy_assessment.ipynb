{
 "cells": [
  {
   "cell_type": "markdown",
   "metadata": {},
   "source": [
    "# Energy Reconstruction Using CNN"
   ]
  },
  {
   "cell_type": "markdown",
   "metadata": {},
   "source": [
    "## General Notes:\n",
    "This notebook is designed for regression convolutional neural networks used to reconstruct the energy of a cosmic ray primary. It assumes all input is normalized as a best-practice."
   ]
  },
  {
   "cell_type": "code",
   "execution_count": null,
   "metadata": {},
   "outputs": [],
   "source": [
    "%matplotlib inline\n",
    "import matplotlib.pyplot as plt\n",
    "import numpy as np\n",
    "import os\n",
    "from glob import glob\n",
    "from keras.models import load_model\n",
    "from data_tools import load_preprocessed, dataPrep, getCut"
   ]
  },
  {
   "cell_type": "markdown",
   "metadata": {},
   "source": [
    "## Model Selection"
   ]
  },
  {
   "cell_type": "code",
   "execution_count": null,
   "metadata": {},
   "outputs": [],
   "source": [
    "# Edit this file path to the models folder containing .h5 and .npy files for each model.\n",
    "modelPrefix = os.getcwd()+'\\\\models'\n",
    "\n",
    "# Edit this file path to the folder containing the simulationg data.\n",
    "simPrefix = os.getcwd()+'\\\\simdata'\n",
    "\n",
    "# Option to change font size for all labels within this notebook\n",
    "labelParams = {'fontsize':16}"
   ]
  },
  {
   "cell_type": "code",
   "execution_count": null,
   "metadata": {},
   "outputs": [],
   "source": [
    "# List of available models\n",
    "\n",
    "modelList = sorted(glob('%s\\\\*.h5' % modelPrefix))\n",
    "modelList = [os.path.basename(m)[:-3] for m in modelList]\n",
    "\n",
    "paramList = sorted(glob('%s\\\\*.npy' % modelPrefix))\n",
    "paramList = [os.path.basename(p)[:-4] for p in paramList]\n",
    "\n",
    "print('Available models:', sorted(set(modelList).intersection(paramList)))\n",
    "print('\\nModels without parameter files:', sorted(set(modelList).difference(paramList)))"
   ]
  },
  {
   "cell_type": "code",
   "execution_count": null,
   "metadata": {},
   "outputs": [],
   "source": [
    "# Keys you want to study\n",
    "# Available models will appear above\n",
    "\n",
    "keyList = ['', '']\n",
    "# Example: keyList = ['test0', 'test1']\n",
    "\n",
    "labels = {'':'', '':''}\n",
    "# Example: labels = {'test0':'label0', 'test1':'label1'}\n",
    "\n",
    "# Automatic intake of parameters from parameter files\n",
    "p = {}\n",
    "for key in keyList:\n",
    "    d = np.load('%s\\\\%s.npy' % (modelPrefix, key), allow_pickle=True)\n",
    "    p[key] = d.item()\n",
    "    print(key, ':', p[key])"
   ]
  },
  {
   "cell_type": "markdown",
   "metadata": {},
   "source": [
    "## Assessment Data"
   ]
  },
  {
   "cell_type": "code",
   "execution_count": null,
   "metadata": {},
   "outputs": [],
   "source": [
    "# Load data, x in four layers (q1, q2, t1, t2) and y as a dictionary with event-level parameters\n",
    "x, y = load_preprocessed(simPrefix, 'assessment')"
   ]
  },
  {
   "cell_type": "code",
   "execution_count": null,
   "metadata": {},
   "outputs": [],
   "source": [
    "# Event-level parameters\n",
    "# True values\n",
    "theta, phi = y['dir'].transpose()\n",
    "theta = np.pi - theta  # Define 0 degrees as overhead"
   ]
  },
  {
   "cell_type": "markdown",
   "metadata": {},
   "source": [
    "## Notes\n",
    "\n",
    "This notebook is designed to compare multiple models for beginners in machine learning"
   ]
  },
  {
   "cell_type": "markdown",
   "metadata": {},
   "source": [
    "## Model Preperation"
   ]
  },
  {
   "cell_type": "code",
   "execution_count": null,
   "metadata": {},
   "outputs": [],
   "source": [
    "models = {}\n",
    "recoE = {}\n",
    "\n",
    "# Calculate reconstructed energies. This can take a bit, but should print out info on each key as it works\n",
    "for key in keyList:\n",
    "\n",
    "    # Comment these two lines if you want to rerun your energy reconstructions each time\n",
    "    if key in models.keys():\n",
    "        continue\n",
    "\n",
    "    print('Working on %s...' % key)\n",
    "    # Note: very sensitive to tensorflow/keras version.\n",
    "    models[key] = load_model('%s/%s.h5' % (modelPrefix, key)) # Edit file path\n",
    "    \n",
    "    # Configure input data\n",
    "    x_i = dataPrep(x, y, **p[key])\n",
    "    comp = y['comp']\n",
    "    energy = y['energy']  \n",
    "    \n",
    "    print('Model parameters')\n",
    "    print(p[key])\n",
    "    \n",
    "    # Models should only output energy\n",
    "    recoE[key] = models[key].predict([x_i[0], x_i[1]]).flatten()"
   ]
  },
  {
   "cell_type": "markdown",
   "metadata": {},
   "source": [
    "## Plotting Parameters"
   ]
  },
  {
   "cell_type": "code",
   "execution_count": null,
   "metadata": {},
   "outputs": [],
   "source": [
    "ebins = np.linspace(5, 8, 181)\n",
    "evalues = (ebins[:-1] + ebins[1:]) / 2\n",
    "\n",
    "cutNames = ['No Cut', 'Quality Cut']\n",
    "ncols, nrows = len(cutNames), len(keyList)"
   ]
  },
  {
   "cell_type": "markdown",
   "metadata": {},
   "source": [
    "## Energy Reconstruction Plots"
   ]
  },
  {
   "cell_type": "markdown",
   "metadata": {},
   "source": [
    "### Total Energy Resolution"
   ]
  },
  {
   "cell_type": "code",
   "execution_count": null,
   "metadata": {},
   "outputs": [],
   "source": [
    "histArgs = {'range':(-2,2), 'bins':121, 'histtype':'step', 'log':True, 'linewidth':4}\n",
    "fig, axs = plt.subplots(figsize=(13*ncols, 8), ncols=ncols)\n",
    "\n",
    "for i, cutName in enumerate(cutNames):\n",
    "    ax = axs[i]\n",
    "    for j, key in enumerate(keyList):\n",
    "        cut = getCut(cutName, x, y, p, recoE, key)\n",
    "        ax.hist((recoE[key][cut] - energy[cut]), label=labels[key], **histArgs)\n",
    "    ax.set_title('Energy Resolution (%s)' % cutName, **labelParams)\n",
    "    ax.set_xlabel(r'$\\log_{10}(E_{\\mathrm{reco}}/\\mathrm{GeV}) - \\log_{10}(E_{\\mathrm{true}}/\\mathrm{GeV})$', **labelParams)\n",
    "    ax.set_ylabel('Counts', **labelParams)\n",
    "    ax.legend()"
   ]
  },
  {
   "cell_type": "code",
   "execution_count": null,
   "metadata": {},
   "outputs": [],
   "source": [
    "# Plot energy resolution\n",
    "\n",
    "histArgs = {'range':(-1,1), 'bins':121, 'histtype':'step', 'linewidth':4}\n",
    "fig, axs = plt.subplots(figsize=(13*ncols, 8), ncols=ncols)\n",
    "\n",
    "for i, cutName in enumerate(cutNames):\n",
    "    ax = axs[i]\n",
    "    for j, key in enumerate(keyList):\n",
    "        cut = getCut(cutName, x, y, p, recoE, key)\n",
    "        ax.hist((recoE[key][cut] - energy[cut]), label=labels[key], **histArgs)\n",
    "    ax.set_title('Energy Resolution (%s)' % cutName, **labelParams)\n",
    "    ax.set_xlabel(r'$\\log_{10}(E_{\\mathrm{reco}}/\\mathrm{GeV}) - \\log_{10}(E_{\\mathrm{true}}/\\mathrm{GeV})$', **labelParams)\n",
    "    ax.set_ylabel('Counts', **labelParams)\n",
    "    ax.legend()"
   ]
  },
  {
   "cell_type": "code",
   "execution_count": null,
   "metadata": {},
   "outputs": [],
   "source": [
    "# Summary parameters\n",
    "\n",
    "for key in keyList:\n",
    "    for i, cutName in enumerate(cutNames):\n",
    "        cut = getCut(cutName, x, y, p, recoE, key)\n",
    "        median, err_min, err_max = np.percentile(recoE[key][cut] - energy[cut], (50,16,84))\n",
    "        print('Energy resolution for %s (%s): %.03f +%.03f %.03f' % (key, cutName, median, err_max, err_min))\n",
    "    print()"
   ]
  },
  {
   "cell_type": "markdown",
   "metadata": {},
   "source": [
    "### Two-Dimensional Visualization"
   ]
  },
  {
   "cell_type": "code",
   "execution_count": null,
   "metadata": {},
   "outputs": [],
   "source": [
    "np.seterr(divide = 'ignore')\n",
    "\n",
    "fig, axs = plt.subplots(figsize=(13*ncols, 10*nrows), ncols=ncols, nrows=nrows, \n",
    "                        sharex=True, sharey=True)\n",
    "\n",
    "for i, key in enumerate(keyList):\n",
    "    for j, cutName in enumerate(cutNames):\n",
    "        \n",
    "        ax = axs[i, j] if len(keyList) > 1 else axs[j]\n",
    "        cut = getCut(cutName, x, y, p, recoE, key)\n",
    "        \n",
    "        h, xedges, yedges = np.histogram2d(recoE[key][cut], energy[cut], bins=(ebins, ebins), \n",
    "                                           normed=False, weights=None)\n",
    "        # Normalize\n",
    "        ntot = np.sum(h, axis=0).astype(float)\n",
    "        ntot[ntot==0] = 1.\n",
    "        h /= ntot\n",
    "        \n",
    "        # Create contours\n",
    "        contourValues = [0.025, 0.16, 0.84, 0.975]\n",
    "        contourList = [[] for i in contourValues]\n",
    "        for c, col in enumerate(h.transpose()):\n",
    "            ccol = col.cumsum()\n",
    "            for l, val in zip(contourList, contourValues):\n",
    "                try: l += [np.where(ccol > val)[0][0]]\n",
    "                except IndexError:\n",
    "                    l += [0]\n",
    "        for l in contourList:\n",
    "            l.insert(0, l[0])\n",
    "            if i >= len(contourList) / 2:\n",
    "                l = [j+1 for j in l]     \n",
    "        ax.plot(evalues, evalues, 'k', ls=':')\n",
    "        for l in contourList:\n",
    "            ax.step(ebins, ebins[l], color='red', linestyle='--')\n",
    "        \n",
    "        # Plot on a log scale\n",
    "        extent = [yedges[0], yedges[-1], xedges[0], xedges[-1]]\n",
    "        im = ax.imshow(np.log10(h), extent=extent, origin='lower', interpolation='none', vmin=-3.5, vmax=-0.5)\n",
    "        ax.set_title('%s (%s)' % (key, cutName), **labelParams)\n",
    "        ax.set_xlabel(r'$\\log_{10}(E_{\\mathrm{true}}/\\mathrm{GeV})$', **labelParams)\n",
    "        ax.set_ylabel(r'$\\log_{10}(E_{\\mathrm{reco}}/\\mathrm{GeV})$', **labelParams)\n",
    "        fig.colorbar(im, ax=ax)"
   ]
  }
 ],
 "metadata": {
  "interpreter": {
   "hash": "7fa6917d79ba6874137c2cee546e23d674c97a8f1fc70b0dd72f9db1e0feed7b"
  },
  "kernelspec": {
   "display_name": "Python 3.8.5 64-bit ('anaconda3')",
   "language": "python",
   "name": "python3"
  },
  "language_info": {
   "codemirror_mode": {
    "name": "ipython",
    "version": 3
   },
   "file_extension": ".py",
   "mimetype": "text/x-python",
   "name": "python",
   "nbconvert_exporter": "python",
   "pygments_lexer": "ipython3",
   "version": "3.8.5"
  }
 },
 "nbformat": 4,
 "nbformat_minor": 2
}
